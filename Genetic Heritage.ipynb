{
 "cells": [
  {
   "cell_type": "markdown",
   "metadata": {},
   "source": [
    "# Genetic heritage:"
   ]
  },
  {
   "cell_type": "code",
   "execution_count": 2,
   "metadata": {},
   "outputs": [],
   "source": [
    "# import libraries for later use\n",
    "import numpy as np\n",
    "import pandas as pd\n",
    "import seaborn"
   ]
  },
  {
   "cell_type": "code",
   "execution_count": 3,
   "metadata": {},
   "outputs": [],
   "source": [
    "string = ['CAGCGGGTGCGTAATTTGGAGAAGTTATTCTGCAACGAAATCAATCCTGTTTCGTTAGCTTACGGACTACGACGAGAGGGTACTTCCCTGATATAGTCAC',\n",
    "         'CAAGTCGGGCGTATTGGAGAATATTTAAATCGGAAGATCATGTTACTATGCGTTAGCTCACGGACTGAAGAGGATTCTCTCTTAATGCAA',\n",
    "         'CATGGGTGCGTCGATTTTGGCAGTAAAGTGGAATCGTCAGATATCAATCCTGTTTCGTAGAAAGGAGCTACCTAGAGAGGATTACTCTCACATAGTA',\n",
    "         'CAAGTCCGCGATAAATTGGAATATTTGTCAATCGGAATAGTCAACTTAGCTGGCGTTAGCTTTACGACTGACAGAGAGAAACCTGTCCATCACACA',\n",
    "         'CAAGTCCGGCGTAATTGGAGAATATTTTGCAATCGGAAGATCAATCTTGTTAGCGTTAGCTTACGACTGACGAGAGGGATACTCTCTCTAATACAA',\n",
    "         'CACGGGCTCCGCAATTTTGGGTCAAGTTGCATATCAGTCATCGACAATCAAACACTGTTTTGCGGTAGATAAGATACGACTGAGAGAGGACGTTCGCTCGAATATAGTTAC',\n",
    "         'CACGGGTCCGTCAATTTTGGAGTAAGTTGATATCGTCACGAAATCAATCCTGTTTCGGTAGTATAGGACTACGACGAGAGAGGACGTTCCTCTGATATAGTTAC']"
   ]
  },
  {
   "cell_type": "code",
   "execution_count": 4,
   "metadata": {},
   "outputs": [
    {
     "name": "stdout",
     "output_type": "stream",
     "text": [
      "7\n",
      "100 - 90 - 97 - 96 - 96 - 111 - 104 - "
     ]
    }
   ],
   "source": [
    "# check the length and number of input:\n",
    "print(len(string))\n",
    "for i in string:\n",
    "    print(len(i), end = \" - \")"
   ]
  },
  {
   "cell_type": "markdown",
   "metadata": {},
   "source": [
    "## Longest common subsequence\n",
    "### 1. Write python code to give the length of the longest common subsequence for two strings.\n"
   ]
  },
  {
   "cell_type": "markdown",
   "metadata": {},
   "source": [
    "#### The Python to compute the longest comon subsequent (lcs) of 2 strings: "
   ]
  },
  {
   "cell_type": "code",
   "execution_count": 5,
   "metadata": {},
   "outputs": [],
   "source": [
    "def lcs(str1, str2, m, n):\n",
    "    # take input str1 and str2: 2 strings\n",
    "    # m,n are the length of str1 and str2, respectively\n",
    "    # we store 2 matrix\n",
    "    \n",
    "    tracking = []\n",
    "    storage = []\n",
    "    #  matrix \"tracking\" is to track which scenario we got into (discuss later)\n",
    "    #  matrix \"storage\" is to store the optimal lcs of subsequence of str1, str2\n",
    "    # storage[i,j] is to store the optimal lcs of subsequence of str1[:i], str2[:j]\n",
    "    \n",
    "    # run from 0 to n (including n), creating the 2 matrixes\n",
    "    for i in range(n+1):\n",
    "        tracking.append([0] * (m+1))\n",
    "        storage.append([0] * (m+1))\n",
    "        \n",
    "    # go through the column\n",
    "    for i in range(m):\n",
    "        # as Python start from index 0, we add 1 for universal and easier link to the matrix\n",
    "        column = i+1\n",
    "        # go through each datapoint\n",
    "        for j in range(n):\n",
    "            # as Python start from index 0, we add 1 for universal and easier link to the matrix\n",
    "            row = j+1\n",
    "            \n",
    "            # we start from the begin of the string to the end\n",
    "            # 3 scenarios:\n",
    "            ### scenario 1: the 2 character is the same: take it into the lcs (+1)\n",
    "            ##### and we move forward to the reraminding text: \n",
    "            ##### storage[row][column] = storage[row-1][column-1] + 1\n",
    "            ##### else, if scenario 1 didn't happen, we consider the maximum of either\n",
    "            ##### the str1 without that character and the remaining str2\n",
    "            ##### OR the str2 without that character and the remaining str1:\n",
    "            ##### storage[row][column-1], storage[row-1][column]\n",
    "            ### scenario 2: storage[row][column-1] >= storage[row-1][column]:\n",
    "            ##### storage[row][column-1] is max\n",
    "            ### scenario 3: else:\n",
    "            ##### storage[row-1][column] is max\n",
    "            ### The reason we split into 3 cases is easier to mark into the tracking matrix\n",
    "            \n",
    "            # scenario 1\n",
    "            if str1[i] == str2[j]:\n",
    "                storage[row][column] = storage[row-1][column-1] + 1\n",
    "                tracking[row][column] = \"NW\"\n",
    "                # northwest: go up and left\n",
    "            # scenario 2\n",
    "            elif storage[row][column-1] >= storage[row-1][column]:\n",
    "                storage[row][column] = storage[row][column-1]\n",
    "                tracking[row][column] = \"N\"\n",
    "                # north: go up\n",
    "            # scenario 3\n",
    "            else:\n",
    "                storage[row][column] = storage[row-1][column]\n",
    "                tracking[row][column] = \"W\"\n",
    "                # west: go left\n",
    "    return storage, tracking\n",
    "\n",
    "# store the number of steps we need to make: the number of lcs\n",
    "count = 0\n",
    "def print_lcs(tracking, str1, m, n):\n",
    "    # 4 parameters: \n",
    "    ### tracking: the tracking table\n",
    "    ### str1: the string\n",
    "    ### m, n: length of the 2 string\n",
    "    global count\n",
    "    \n",
    "    #corner case: empty string\n",
    "    if m == 0 or n == 0:\n",
    "        return \"NO\"\n",
    "    \n",
    "    # \"NW\" happens: meaning we found 2 same character: lcs += 1\n",
    "    if tracking[n][m] == \"NW\":\n",
    "        count += 1\n",
    "        print_lcs(tracking,str1, m-1, n-1)\n",
    "        \n",
    "    # \"N\" happens: we move up 1 stage: \n",
    "    # this is the reverse of move down: meaning we neglect that character of str2\n",
    "    # hence, it's the reverse path of from m-1, n-1 -> m-1, n\n",
    "    elif tracking[n][m] == \"N\":\n",
    "        print_lcs(tracking,str1, m-1, n)\n",
    "        \n",
    "    # \"W\" happens: we move up 1 stage: \n",
    "    # this is the reverse of move right: meaning we neglect that character of str1\n",
    "    # hence, it's the reverse path of from m-1, n-1 -> m, n-1\n",
    "    elif tracking[n][m] == \"W\":\n",
    "        print_lcs(tracking,str1, m, n-1)\n",
    "    return count\n"
   ]
  },
  {
   "cell_type": "code",
   "execution_count": 9,
   "metadata": {},
   "outputs": [
    {
     "name": "stdout",
     "output_type": "stream",
     "text": [
      "4\n"
     ]
    }
   ],
   "source": [
    "m = len('a')\n",
    "n = len('abc')        \n",
    "storage, tracking = lcs('ab', 'abc', m, n)\n",
    "length_lcs = print_lcs(tracking,'ab', m, n)\n",
    "print(length_lcs)"
   ]
  },
  {
   "cell_type": "markdown",
   "metadata": {},
   "source": [
    "#### Doing lcs for every pair in the 7 strings"
   ]
  },
  {
   "cell_type": "code",
   "execution_count": 5,
   "metadata": {},
   "outputs": [],
   "source": [
    "# the table to store the lcs between strings\n",
    "data = []\n",
    "\n",
    "# the table to store the ratio lcs and the length of the string on the row\n",
    "ratio = []\n",
    "\n",
    "# go through the rows\n",
    "for i in range(7):\n",
    "    data.append([])\n",
    "    ratio.append([])\n",
    "    # go through each pair of string\n",
    "    # data[i][j] is lcs between string[i] and string[j]\n",
    "    # ratio[i][j] is the ratio between lcs between string[i] and string[j]\n",
    "    ### and the length of string[i]\n",
    "    for j in range(7):\n",
    "        count = 0\n",
    "        m = len(string[i])\n",
    "        n = len(string[j])        \n",
    "        storage, tracking = lcs(string[i], string[j], m, n)\n",
    "        length_lcs = print_lcs(tracking,string[i], m, n)\n",
    "        data[i].append(length_lcs)\n",
    "        ratio[i].append(length_lcs/len(string[i]))\n"
   ]
  },
  {
   "cell_type": "code",
   "execution_count": null,
   "metadata": {},
   "outputs": [],
   "source": []
  },
  {
   "cell_type": "code",
   "execution_count": null,
   "metadata": {},
   "outputs": [],
   "source": []
  },
  {
   "cell_type": "markdown",
   "metadata": {},
   "source": [
    "### 2. Generate the table of the lengths of the longest common subsequences for every pair of strings."
   ]
  },
  {
   "cell_type": "markdown",
   "metadata": {},
   "source": [
    "#### Use pandas.dataframe to import data into a table"
   ]
  },
  {
   "cell_type": "markdown",
   "metadata": {},
   "source": [
    "$\\textbf{Table 1: The table of the lcs between string[i] and string[j]}$"
   ]
  },
  {
   "cell_type": "code",
   "execution_count": 6,
   "metadata": {},
   "outputs": [
    {
     "data": {
      "text/html": [
       "<div>\n",
       "<style scoped>\n",
       "    .dataframe tbody tr th:only-of-type {\n",
       "        vertical-align: middle;\n",
       "    }\n",
       "\n",
       "    .dataframe tbody tr th {\n",
       "        vertical-align: top;\n",
       "    }\n",
       "\n",
       "    .dataframe thead th {\n",
       "        text-align: right;\n",
       "    }\n",
       "</style>\n",
       "<table border=\"1\" class=\"dataframe\">\n",
       "  <thead>\n",
       "    <tr style=\"text-align: right;\">\n",
       "      <th></th>\n",
       "      <th>string[0]</th>\n",
       "      <th>string[1]</th>\n",
       "      <th>string[2]</th>\n",
       "      <th>string[3]</th>\n",
       "      <th>string[4]</th>\n",
       "      <th>string[5]</th>\n",
       "      <th>string[6]</th>\n",
       "    </tr>\n",
       "  </thead>\n",
       "  <tbody>\n",
       "    <tr>\n",
       "      <th>string[0]</th>\n",
       "      <td>100</td>\n",
       "      <td>74</td>\n",
       "      <td>76</td>\n",
       "      <td>73</td>\n",
       "      <td>82</td>\n",
       "      <td>84</td>\n",
       "      <td>91</td>\n",
       "    </tr>\n",
       "    <tr>\n",
       "      <th>string[1]</th>\n",
       "      <td>74</td>\n",
       "      <td>90</td>\n",
       "      <td>67</td>\n",
       "      <td>72</td>\n",
       "      <td>80</td>\n",
       "      <td>70</td>\n",
       "      <td>71</td>\n",
       "    </tr>\n",
       "    <tr>\n",
       "      <th>string[2]</th>\n",
       "      <td>76</td>\n",
       "      <td>67</td>\n",
       "      <td>97</td>\n",
       "      <td>65</td>\n",
       "      <td>69</td>\n",
       "      <td>81</td>\n",
       "      <td>84</td>\n",
       "    </tr>\n",
       "    <tr>\n",
       "      <th>string[3]</th>\n",
       "      <td>73</td>\n",
       "      <td>72</td>\n",
       "      <td>65</td>\n",
       "      <td>96</td>\n",
       "      <td>81</td>\n",
       "      <td>71</td>\n",
       "      <td>69</td>\n",
       "    </tr>\n",
       "    <tr>\n",
       "      <th>string[4]</th>\n",
       "      <td>82</td>\n",
       "      <td>80</td>\n",
       "      <td>69</td>\n",
       "      <td>81</td>\n",
       "      <td>96</td>\n",
       "      <td>74</td>\n",
       "      <td>75</td>\n",
       "    </tr>\n",
       "    <tr>\n",
       "      <th>string[5]</th>\n",
       "      <td>84</td>\n",
       "      <td>70</td>\n",
       "      <td>81</td>\n",
       "      <td>71</td>\n",
       "      <td>74</td>\n",
       "      <td>111</td>\n",
       "      <td>97</td>\n",
       "    </tr>\n",
       "    <tr>\n",
       "      <th>string[6]</th>\n",
       "      <td>91</td>\n",
       "      <td>71</td>\n",
       "      <td>84</td>\n",
       "      <td>69</td>\n",
       "      <td>75</td>\n",
       "      <td>97</td>\n",
       "      <td>104</td>\n",
       "    </tr>\n",
       "  </tbody>\n",
       "</table>\n",
       "</div>"
      ],
      "text/plain": [
       "           string[0]  string[1]  string[2]  string[3]  string[4]  string[5]  \\\n",
       "string[0]        100         74         76         73         82         84   \n",
       "string[1]         74         90         67         72         80         70   \n",
       "string[2]         76         67         97         65         69         81   \n",
       "string[3]         73         72         65         96         81         71   \n",
       "string[4]         82         80         69         81         96         74   \n",
       "string[5]         84         70         81         71         74        111   \n",
       "string[6]         91         71         84         69         75         97   \n",
       "\n",
       "           string[6]  \n",
       "string[0]         91  \n",
       "string[1]         71  \n",
       "string[2]         84  \n",
       "string[3]         69  \n",
       "string[4]         75  \n",
       "string[5]         97  \n",
       "string[6]        104  "
      ]
     },
     "execution_count": 6,
     "metadata": {},
     "output_type": "execute_result"
    }
   ],
   "source": [
    "df_data = pd.DataFrame(data, columns=['string[0]','string[1]','string[2]',\n",
    "                                      'string[3]','string[4]','string[5]','string[6]'])\n",
    "df_data.rename(index={0:'string[0]',1:'string[1]',2:'string[2]',3:'string[3]',\n",
    "                      4:'string[4]',5:'string[5]',6:'string[6]',}, inplace=True)\n",
    "df_data"
   ]
  },
  {
   "cell_type": "markdown",
   "metadata": {},
   "source": [
    "$\\textbf{Table 2: The table of the ratio between the lcs between string[i] and string[j] }$\n",
    "$\\textbf{divide by the length of string[i]}$"
   ]
  },
  {
   "cell_type": "code",
   "execution_count": 7,
   "metadata": {},
   "outputs": [
    {
     "data": {
      "text/html": [
       "<div>\n",
       "<style scoped>\n",
       "    .dataframe tbody tr th:only-of-type {\n",
       "        vertical-align: middle;\n",
       "    }\n",
       "\n",
       "    .dataframe tbody tr th {\n",
       "        vertical-align: top;\n",
       "    }\n",
       "\n",
       "    .dataframe thead th {\n",
       "        text-align: right;\n",
       "    }\n",
       "</style>\n",
       "<table border=\"1\" class=\"dataframe\">\n",
       "  <thead>\n",
       "    <tr style=\"text-align: right;\">\n",
       "      <th></th>\n",
       "      <th>string[0]</th>\n",
       "      <th>string[1]</th>\n",
       "      <th>string[2]</th>\n",
       "      <th>string[3]</th>\n",
       "      <th>string[4]</th>\n",
       "      <th>string[5]</th>\n",
       "      <th>string[6]</th>\n",
       "    </tr>\n",
       "  </thead>\n",
       "  <tbody>\n",
       "    <tr>\n",
       "      <th>string[0]</th>\n",
       "      <td>1.000000</td>\n",
       "      <td>0.740000</td>\n",
       "      <td>0.760000</td>\n",
       "      <td>0.730000</td>\n",
       "      <td>0.820000</td>\n",
       "      <td>0.840000</td>\n",
       "      <td>0.910000</td>\n",
       "    </tr>\n",
       "    <tr>\n",
       "      <th>string[1]</th>\n",
       "      <td>0.822222</td>\n",
       "      <td>1.000000</td>\n",
       "      <td>0.744444</td>\n",
       "      <td>0.800000</td>\n",
       "      <td>0.888889</td>\n",
       "      <td>0.777778</td>\n",
       "      <td>0.788889</td>\n",
       "    </tr>\n",
       "    <tr>\n",
       "      <th>string[2]</th>\n",
       "      <td>0.783505</td>\n",
       "      <td>0.690722</td>\n",
       "      <td>1.000000</td>\n",
       "      <td>0.670103</td>\n",
       "      <td>0.711340</td>\n",
       "      <td>0.835052</td>\n",
       "      <td>0.865979</td>\n",
       "    </tr>\n",
       "    <tr>\n",
       "      <th>string[3]</th>\n",
       "      <td>0.760417</td>\n",
       "      <td>0.750000</td>\n",
       "      <td>0.677083</td>\n",
       "      <td>1.000000</td>\n",
       "      <td>0.843750</td>\n",
       "      <td>0.739583</td>\n",
       "      <td>0.718750</td>\n",
       "    </tr>\n",
       "    <tr>\n",
       "      <th>string[4]</th>\n",
       "      <td>0.854167</td>\n",
       "      <td>0.833333</td>\n",
       "      <td>0.718750</td>\n",
       "      <td>0.843750</td>\n",
       "      <td>1.000000</td>\n",
       "      <td>0.770833</td>\n",
       "      <td>0.781250</td>\n",
       "    </tr>\n",
       "    <tr>\n",
       "      <th>string[5]</th>\n",
       "      <td>0.756757</td>\n",
       "      <td>0.630631</td>\n",
       "      <td>0.729730</td>\n",
       "      <td>0.639640</td>\n",
       "      <td>0.666667</td>\n",
       "      <td>1.000000</td>\n",
       "      <td>0.873874</td>\n",
       "    </tr>\n",
       "    <tr>\n",
       "      <th>string[6]</th>\n",
       "      <td>0.875000</td>\n",
       "      <td>0.682692</td>\n",
       "      <td>0.807692</td>\n",
       "      <td>0.663462</td>\n",
       "      <td>0.721154</td>\n",
       "      <td>0.932692</td>\n",
       "      <td>1.000000</td>\n",
       "    </tr>\n",
       "  </tbody>\n",
       "</table>\n",
       "</div>"
      ],
      "text/plain": [
       "           string[0]  string[1]  string[2]  string[3]  string[4]  string[5]  \\\n",
       "string[0]   1.000000   0.740000   0.760000   0.730000   0.820000   0.840000   \n",
       "string[1]   0.822222   1.000000   0.744444   0.800000   0.888889   0.777778   \n",
       "string[2]   0.783505   0.690722   1.000000   0.670103   0.711340   0.835052   \n",
       "string[3]   0.760417   0.750000   0.677083   1.000000   0.843750   0.739583   \n",
       "string[4]   0.854167   0.833333   0.718750   0.843750   1.000000   0.770833   \n",
       "string[5]   0.756757   0.630631   0.729730   0.639640   0.666667   1.000000   \n",
       "string[6]   0.875000   0.682692   0.807692   0.663462   0.721154   0.932692   \n",
       "\n",
       "           string[6]  \n",
       "string[0]   0.910000  \n",
       "string[1]   0.788889  \n",
       "string[2]   0.865979  \n",
       "string[3]   0.718750  \n",
       "string[4]   0.781250  \n",
       "string[5]   0.873874  \n",
       "string[6]   1.000000  "
      ]
     },
     "execution_count": 7,
     "metadata": {},
     "output_type": "execute_result"
    }
   ],
   "source": [
    "df_ratio = pd.DataFrame(ratio, columns=['string[0]','string[1]','string[2]',\n",
    "                                      'string[3]','string[4]','string[5]','string[6]'])\n",
    "df_ratio.rename(index={0:'string[0]',1:'string[1]',2:'string[2]',3:'string[3]',\n",
    "                      4:'string[4]',5:'string[5]',6:'string[6]',}, inplace=True)\n",
    "df_ratio"
   ]
  },
  {
   "cell_type": "code",
   "execution_count": null,
   "metadata": {},
   "outputs": [],
   "source": []
  },
  {
   "cell_type": "markdown",
   "metadata": {},
   "source": [
    "$\\textbf{Using seaborn package to create heatmap demonstrating the distribution}$"
   ]
  },
  {
   "cell_type": "markdown",
   "metadata": {},
   "source": [
    "$\\textbf{Table 3: The heatmap of the lcs between string[i] and string[j]}$"
   ]
  },
  {
   "cell_type": "code",
   "execution_count": 8,
   "metadata": {},
   "outputs": [
    {
     "data": {
      "text/plain": [
       "<matplotlib.axes._subplots.AxesSubplot at 0x2980cd96fd0>"
      ]
     },
     "execution_count": 8,
     "metadata": {},
     "output_type": "execute_result"
    },
    {
     "data": {
      "image/png": "[encoded data removed]",
      "text/plain": [
       "<Figure size 432x288 with 2 Axes>"
      ]
     },
     "metadata": {},
     "output_type": "display_data"
    }
   ],
   "source": [
    "seaborn.heatmap(df_data, annot=True, fmt=\"d\")"
   ]
  },
  {
   "cell_type": "markdown",
   "metadata": {},
   "source": [
    "$\\textbf{Table 4: The heatmap of the ratio between the lcs between string[i] and string[j] }$\n",
    "$\\textbf{divide by the length of string[i]}$"
   ]
  },
  {
   "cell_type": "code",
   "execution_count": 9,
   "metadata": {},
   "outputs": [
    {
     "data": {
      "text/plain": [
       "<matplotlib.axes._subplots.AxesSubplot at 0x2980e171c50>"
      ]
     },
     "execution_count": 9,
     "metadata": {},
     "output_type": "execute_result"
    },
    {
     "data": {
      "image/png": "[encoded data removed]",
      "text/plain": [
       "<Figure size 432x288 with 2 Axes>"
      ]
     },
     "metadata": {},
     "output_type": "display_data"
    }
   ],
   "source": [
    "seaborn.heatmap(df_ratio, annot=True)"
   ]
  },
  {
   "cell_type": "code",
   "execution_count": null,
   "metadata": {},
   "outputs": [],
   "source": []
  },
  {
   "cell_type": "markdown",
   "metadata": {},
   "source": [
    "## Relationship Tree\n",
    "### 3. Manually examine the table, and infer the relationships between strings. "
   ]
  },
  {
   "cell_type": "code",
   "execution_count": 10,
   "metadata": {},
   "outputs": [
    {
     "name": "stdout",
     "output_type": "stream",
     "text": [
      "     0\n",
      "    / \\\n",
      "   /   \\\n",
      "  4     6\n",
      " / \\   / \\\n",
      "1   3 2   5\n"
     ]
    }
   ],
   "source": [
    "print(\"\"\"     0\"\"\")\n",
    "print(\"\"\"    / \\\\\"\"\")\n",
    "print(\"\"\"   /   \\\\\"\"\")\n",
    "print(\"\"\"  4     6\"\"\")\n",
    "print(\"\"\" / \\\\   / \\\\\"\"\")\n",
    "print(\"\"\"1   3 2   5\"\"\")"
   ]
  },
  {
   "cell_type": "markdown",
   "metadata": {},
   "source": [
    "We must infer some foundation properties: \n",
    "1. If the 2 string has direct relationship, then they should have more similar lcs(). Direct relationship means the parents and the child.\n",
    "2. The lcs() between 2 strings also depends on the length of the 2 original string. Hence, we will use the lcs ratio: the ratio between the length of the lcs and the the length of the original string. We are doing this to normalize the lcs on the scale of 1. (we can consider it similar to probability)\n",
    "3. It is possible to assume the lcs ratio between direct relationship is higher than the other relationships.\n",
    "4. We can also consider the relationship between the grandparents and the grandchild. The lcs ratio should be lower than direct relationship, but higher than other relationship. "
   ]
  },
  {
   "cell_type": "markdown",
   "metadata": {},
   "source": [
    "Now we take a look at table 4: We can see the diagonal line 1-1-1-1-1-1-1. They are 1 because the lcs between 2 same string is the exact string, which then will make the lcs ratio = 1. \n",
    "\n",
    "For each row, we consider the higher value (except 1) of lcs ratio: the highest value can imfer direct relationship:\n",
    "- For string[0]: The highest is 0.91 -> string[0] and [6] has a direct relationship\n",
    "- For string[1]: The highest is 0.89 -> string[1] and [4] has a direct relationship\n",
    "- For string[2]: The highest is 0.87 -> string[2] and [6] has a direct relationship\n",
    "- For string[3]: The highest is 0.84 -> string[3] and [4] has a direct relationship\n",
    "- For string[4]: The highest is 0.85 -> string[4] and [0] has a direct relationship\n",
    "- For string[5]: The highest is 0.87 -> string[5] and [6] has a direct relationship\n",
    "- For string[6]: The highest is 0.93 -> string[6] and [5] has a direct relationship\n",
    "\n",
    "We can see these relation: 0-6, 1-4, 2-6, 3-4, 4,0, 5-6, 6-5.\n",
    "\n",
    "We consider the tree as 3 level: \n",
    "- \"grand\": the grandparents: will have direct relationship with its 2 children. Those 2 children will be called \"parent\"\n",
    "- \"parent\": the child of grandparents: will have direct relationship with its 1 parent (\"grand\") and its 2 children. Those 2 children will be called \"child\"\n",
    "- \"child\": the child of \"parent\": will have direct relationship with its 1 parent (\"parent\").\n",
    "\n",
    "From the relationships, we can see that 6 appears in at least 3 direct relationships: 0-6, 2-6, 5-6: this implies $\\textbf{6 is the \"parent\"}$\n",
    "\n",
    "We can imply between 0, 2, 5: one will be \"grand\" and the other will be \"child\"      \n",
    "\n",
    "From the relationships, we can see that 4 appears in at least 3 direct relationships: 1-4, 3-4, 4-0: this implies $\\textbf{4 is the \"parent\"}$\n",
    "\n",
    "- We can imply between 0, 1, 3: one will be \"grand\" and the other will be \"child\".\n",
    "- From above: we can imply between 0, 2, 5: one will be \"grand\" and the other will be \"child\".\n",
    "- Also, the tree can only have 1 \"grand\"\n",
    "- The intersection of the 2 sets {0,1,3} and {0,2,5} is 0.\n",
    "\n",
    "$\\textbf{Hence, 0 is the \"grand\"}$\n",
    "\n",
    "$\\textbf{1, 3 are child of 4; 2, 5 are child of 6}$\n",
    "\n",
    "\n",
    "$\\textbf{The tree will be described as follow}$"
   ]
  },
  {
   "cell_type": "code",
   "execution_count": 11,
   "metadata": {},
   "outputs": [
    {
     "name": "stdout",
     "output_type": "stream",
     "text": [
      "     0\n",
      "    / \\\n",
      "   /   \\\n",
      "  4     6\n",
      " / \\   / \\\n",
      "1   3 2   5\n"
     ]
    }
   ],
   "source": [
    "print(\"\"\"     0\"\"\")\n",
    "print(\"\"\"    / \\\\\"\"\")\n",
    "print(\"\"\"   /   \\\\\"\"\")\n",
    "print(\"\"\"  4     6\"\"\")\n",
    "print(\"\"\" / \\\\   / \\\\\"\"\")\n",
    "print(\"\"\"1   3 2   5\"\"\")"
   ]
  },
  {
   "cell_type": "code",
   "execution_count": null,
   "metadata": {},
   "outputs": [],
   "source": []
  },
  {
   "cell_type": "markdown",
   "metadata": {},
   "source": [
    "## Probability of mutation, insertions and deletions\n",
    "### 4. How would you estimate the probabilities of mutation, insertions and deletions? (There might not be enough data to give meaningful estimates, but at least have a clear idea of the approach.)\n",
    "### 5.Can you devise an algorithm in the general case which might be able to infer such a tree of relationships? Give any strengths or weaknesses of your suggested algorithm."
   ]
  },
  {
   "cell_type": "markdown",
   "metadata": {},
   "source": [
    "The lcs algorithm works perfectly. However, merely the lcs cannot fully reflect the changes. There could be some randomized factors.\n",
    "\n",
    "We now look at the edit distance algorithm: assuming the genetic function works in the optimal way: the edit_distance will return the minimal number of steps needed to take to transform from string A to string B using 3 operations: inserting a new character (insert), deleting an existing character (Remove), or changing to a new character (replace).\n",
    "\n",
    "The foundation of the algorithm is as follow: transform string1 to string2\n",
    "-  If last characters are same, ignore last character and perform recursion for remaining string \n",
    "- If last character are different, there are 3 possible scenarios and we will choose the one yields the smallest steps of those 3 scenarios:\n",
    "- - scenario 1: we consider the string2 without that character and the remaining of string1 -> string1 insert 1 character to get string2\n",
    "- - scenario 2: we consider the string1 without that character and the remaining of string2 -> string1 remove 1 character to get string2\n",
    "- - scenario 3: we consider the string1 and string2 without that character perform recursion for the remaining of string1 and string2 -> string1 replace 1 character to get string2\n",
    "\n",
    "We maintain 2 tables to store the local optimal solutions: one table is to store the optimal steps transforming string1[:i] to string2[:j] at row[i], column[j]; the other one if to store the scenario (the optimal operation) we take at the specific moment.\n",
    "\n",
    "Here is the implementation:"
   ]
  },
  {
   "cell_type": "code",
   "execution_count": 12,
   "metadata": {},
   "outputs": [],
   "source": [
    "def edit_distance(string1, string2, m, n): \n",
    "    # take input str1 and str2: 2 strings\n",
    "    # m,n are the length of str1 and str2, respectively\n",
    "    \n",
    "    # we store 2 matrix\n",
    "    # data1 is to store the optimal result of subproblems\n",
    "    # path1 is to track which scenario we got into (discuss later)\n",
    "    \n",
    "    # run from 0 to m (including m), creating the 2 matrixes\n",
    "    data1 = []\n",
    "    path1 = []\n",
    "    for i in range(m+1):\n",
    "        data1.append([0] * (n+1))\n",
    "        path1.append([0] * (n+1))\n",
    "    \n",
    "    # go through the column\n",
    "    for i in range(m+1): \n",
    "        # go through each datapoint\n",
    "        for j in range(n+1): \n",
    "  \n",
    "            # If string1 is empty, we insert all characters of string2\n",
    "            if i == 0: \n",
    "                # each data point is j because we insert j times\n",
    "                data1[i][j] = j    \n",
    "  \n",
    "            # If string2 is empty, we remove all characters of string2\n",
    "            elif j == 0: \n",
    "            # each data point is i because we remove i times\n",
    "                data1[i][j] = i  \n",
    "  \n",
    "            # If last characters are same, ignore last character and perform \n",
    "            ### recursion for remaining string \n",
    "            elif string1[i-1] == string2[j-1]: \n",
    "                data1[i][j] = data1[i-1][j-1] \n",
    "            \n",
    "            else:\n",
    "            # If last character are different, there are 3 possible scenarios:\n",
    "            ### scenario 1: we consider the string2 without that character and \n",
    "            ##### the remaining of string1 -> string1 insert 1 character to get string2\n",
    "            ### scenario 2: we consider the string1 without that character and \n",
    "            ##### the remaining of string2 -> string1 remove 1 character to get string2\n",
    "            ### scenario 3: we consider the string1 and string2 without that character\n",
    "            ##### perform recursion for the remaining of string1 and string2\n",
    "            ##### -> string1 replace 1 character to get string2\n",
    "            \n",
    "            # We need to find the minimum of the 3 scenarios\n",
    "            ### the one yields the minimum will be the action we take\n",
    "            ### and we +1 into the previous move\n",
    "            # Also, we input the action into the path1 table\n",
    "                if data1[i][j-1] == min(data1[i][j-1],data1[i-1][j], data1[i-1][j-1]):\n",
    "                # insertion scenario: scenario 1   \n",
    "                    data1[i][j] = 1 + data1[i][j-1] \n",
    "                    path1[i][j] = \"insert\"\n",
    "                elif data1[i-1][j] == min(data1[i][j-1],data1[i-1][j], data1[i-1][j-1]):\n",
    "                # deletion scenario: scenario 2\n",
    "                    path1[i][j] = \"remove\"\n",
    "                    data1[i][j] = 1 + data1[i-1][j] \n",
    "                elif  data1[i-1][j-1] == min(data1[i][j-1],data1[i-1][j], data1[i-1][j-1]):\n",
    "                # replacement scenario: scenario 3    \n",
    "                    path1[i][j] = \"replace\"\n",
    "                    data1[i][j] = 1 + data1[i-1][j-1]\n",
    "    # data[m][n] is the final node: the minimum number of performance \n",
    "    ### to transform string1 -> string2       \n",
    "    return data1[m][n], path1\n",
    "\n",
    "\n",
    "def print_editchange(path1,string1, m, n):\n",
    "    # 4 parameters: \n",
    "    ### path1: the path1 table\n",
    "    ### string1: the string\n",
    "    ### m,n: length of the 2 string\n",
    "    \n",
    "    # global these 3 variables as 0,0,0 \n",
    "    global insert, remove, replace\n",
    "    \n",
    "    #corner case: empty string\n",
    "    if m == 0 or n == 0:\n",
    "        return \"NO\"\n",
    "    \n",
    "    # replace scenario: from m,n case traces back to the m-1,n-1 case\n",
    "    if path1[m][n] == \"replace\":\n",
    "        replace += 1\n",
    "        print_editchange(path1,string1, m-1, n-1)\n",
    "        \n",
    "    # remove scenario: from m,n case traces back to the m-1,n case\n",
    "    elif path1[m][n] == \"remove\":\n",
    "        remove += 1\n",
    "        print_editchange(path1,string1, m-1, n)\n",
    "        \n",
    "    # remove scenario: from m,n case traces back to the m,n-1 case\n",
    "    elif path1[m][n] == \"insert\":\n",
    "        insert += 1\n",
    "        print_editchange(path1,string1, m, n-1)\n",
    "        \n",
    "    # other scenario: when no performance needed \n",
    "    ### could be same string or there are no other character in either strings\n",
    "    # we move on to next step in these scenarios\n",
    "    else:\n",
    "        print_editchange(path1,string1, m-1, n-1)\n",
    "    \n",
    "    # return the number of these performance in these scenarios\n",
    "    # insert+remove+replace is the total number of changes\n",
    "    return insert+remove+replace, insert, remove, replace  "
   ]
  },
  {
   "cell_type": "code",
   "execution_count": null,
   "metadata": {},
   "outputs": [],
   "source": []
  },
  {
   "cell_type": "markdown",
   "metadata": {},
   "source": [
    "#### We now then go through every pair of string to compute the number of changes, the number of changes in each operations needed to make string A -> string B. We also keep track of the ratio: because the number of changes depends on the length of the string as well (the longer the string, the more likely that we have to use more operations). Hence, we divide by the length of the string to normalize the data. "
   ]
  },
  {
   "cell_type": "code",
   "execution_count": 13,
   "metadata": {},
   "outputs": [],
   "source": [
    "# track the number of changes\n",
    "changes_track = []\n",
    "insert_track = []\n",
    "remove_track = []\n",
    "replace_track = []\n",
    "changes_ratio_track = []\n",
    "insert_ratio_track = []\n",
    "remove_ratio_track = []\n",
    "replace_ratio_track = []\n",
    "\n",
    "# gp through every pair\n",
    "for i in range(7):\n",
    "    changes_track.append([])\n",
    "    insert_track.append([])\n",
    "    remove_track.append([])\n",
    "    replace_track.append([])\n",
    "    changes_ratio_track.append([])\n",
    "    insert_ratio_track.append([])\n",
    "    remove_ratio_track.append([])\n",
    "    replace_ratio_track.append([])\n",
    "    for j in range(7):\n",
    "        # length of 2 input string\n",
    "        m = len(string[i])\n",
    "        n = len(string[j])        \n",
    "        num, path = edit_distance(string[i], string[j], m, n)\n",
    "        insert = 0\n",
    "        remove = 0\n",
    "        replace = 0\n",
    "        a,b,c,d = print_editchange(path, string[i], m, n)\n",
    "        changes_track[i].append(a)\n",
    "        insert_track[i].append(b)\n",
    "        remove_track[i].append(c)\n",
    "        replace_track[i].append(d)\n",
    "        changes_ratio_track[i].append(a/len(string[i]))\n",
    "        insert_ratio_track[i].append(b/len(string[i]))\n",
    "        remove_ratio_track[i].append(c/len(string[i]))\n",
    "        replace_ratio_track[i].append(d/len(string[i]))"
   ]
  },
  {
   "cell_type": "markdown",
   "metadata": {},
   "source": [
    "### Table 5: The table represent the number of changes to transform string[i] to string[j]"
   ]
  },
  {
   "cell_type": "code",
   "execution_count": 14,
   "metadata": {},
   "outputs": [
    {
     "data": {
      "text/html": [
       "<div>\n",
       "<style scoped>\n",
       "    .dataframe tbody tr th:only-of-type {\n",
       "        vertical-align: middle;\n",
       "    }\n",
       "\n",
       "    .dataframe tbody tr th {\n",
       "        vertical-align: top;\n",
       "    }\n",
       "\n",
       "    .dataframe thead th {\n",
       "        text-align: right;\n",
       "    }\n",
       "</style>\n",
       "<table border=\"1\" class=\"dataframe\">\n",
       "  <thead>\n",
       "    <tr style=\"text-align: right;\">\n",
       "      <th></th>\n",
       "      <th>string[0]</th>\n",
       "      <th>string[1]</th>\n",
       "      <th>string[2]</th>\n",
       "      <th>string[3]</th>\n",
       "      <th>string[4]</th>\n",
       "      <th>string[5]</th>\n",
       "      <th>string[6]</th>\n",
       "    </tr>\n",
       "  </thead>\n",
       "  <tbody>\n",
       "    <tr>\n",
       "      <th>string[0]</th>\n",
       "      <td>0</td>\n",
       "      <td>35</td>\n",
       "      <td>34</td>\n",
       "      <td>41</td>\n",
       "      <td>26</td>\n",
       "      <td>33</td>\n",
       "      <td>19</td>\n",
       "    </tr>\n",
       "    <tr>\n",
       "      <th>string[1]</th>\n",
       "      <td>35</td>\n",
       "      <td>0</td>\n",
       "      <td>42</td>\n",
       "      <td>31</td>\n",
       "      <td>18</td>\n",
       "      <td>50</td>\n",
       "      <td>43</td>\n",
       "    </tr>\n",
       "    <tr>\n",
       "      <th>string[2]</th>\n",
       "      <td>34</td>\n",
       "      <td>42</td>\n",
       "      <td>0</td>\n",
       "      <td>45</td>\n",
       "      <td>38</td>\n",
       "      <td>37</td>\n",
       "      <td>23</td>\n",
       "    </tr>\n",
       "    <tr>\n",
       "      <th>string[3]</th>\n",
       "      <td>41</td>\n",
       "      <td>31</td>\n",
       "      <td>45</td>\n",
       "      <td>0</td>\n",
       "      <td>23</td>\n",
       "      <td>51</td>\n",
       "      <td>47</td>\n",
       "    </tr>\n",
       "    <tr>\n",
       "      <th>string[4]</th>\n",
       "      <td>26</td>\n",
       "      <td>18</td>\n",
       "      <td>38</td>\n",
       "      <td>23</td>\n",
       "      <td>0</td>\n",
       "      <td>46</td>\n",
       "      <td>39</td>\n",
       "    </tr>\n",
       "    <tr>\n",
       "      <th>string[5]</th>\n",
       "      <td>33</td>\n",
       "      <td>50</td>\n",
       "      <td>37</td>\n",
       "      <td>51</td>\n",
       "      <td>46</td>\n",
       "      <td>0</td>\n",
       "      <td>19</td>\n",
       "    </tr>\n",
       "    <tr>\n",
       "      <th>string[6]</th>\n",
       "      <td>19</td>\n",
       "      <td>43</td>\n",
       "      <td>23</td>\n",
       "      <td>47</td>\n",
       "      <td>39</td>\n",
       "      <td>19</td>\n",
       "      <td>0</td>\n",
       "    </tr>\n",
       "  </tbody>\n",
       "</table>\n",
       "</div>"
      ],
      "text/plain": [
       "           string[0]  string[1]  string[2]  string[3]  string[4]  string[5]  \\\n",
       "string[0]          0         35         34         41         26         33   \n",
       "string[1]         35          0         42         31         18         50   \n",
       "string[2]         34         42          0         45         38         37   \n",
       "string[3]         41         31         45          0         23         51   \n",
       "string[4]         26         18         38         23          0         46   \n",
       "string[5]         33         50         37         51         46          0   \n",
       "string[6]         19         43         23         47         39         19   \n",
       "\n",
       "           string[6]  \n",
       "string[0]         19  \n",
       "string[1]         43  \n",
       "string[2]         23  \n",
       "string[3]         47  \n",
       "string[4]         39  \n",
       "string[5]         19  \n",
       "string[6]          0  "
      ]
     },
     "execution_count": 14,
     "metadata": {},
     "output_type": "execute_result"
    }
   ],
   "source": [
    "df_changes_track = pd.DataFrame(changes_track, columns=['string[0]','string[1]','string[2]',\n",
    "                                                        'string[3]','string[4]','string[5]','string[6]'])\n",
    "df_changes_track.rename(index={0:'string[0]',1:'string[1]',2:'string[2]',3:'string[3]',\n",
    "                      4:'string[4]',5:'string[5]',6:'string[6]',}, inplace=True)\n",
    "df_changes_track"
   ]
  },
  {
   "cell_type": "markdown",
   "metadata": {},
   "source": [
    "### Table 6: The heatmap represents the number of changes to transform string[i] to string[j]"
   ]
  },
  {
   "cell_type": "code",
   "execution_count": 15,
   "metadata": {},
   "outputs": [
    {
     "data": {
      "text/plain": [
       "<matplotlib.axes._subplots.AxesSubplot at 0x2980e188128>"
      ]
     },
     "execution_count": 15,
     "metadata": {},
     "output_type": "execute_result"
    },
    {
     "data": {
      "image/png": "[encoded data removed]",
      "text/plain": [
       "<Figure size 432x288 with 2 Axes>"
      ]
     },
     "metadata": {},
     "output_type": "display_data"
    }
   ],
   "source": [
    "seaborn.heatmap(df_changes_track, annot=True)"
   ]
  },
  {
   "cell_type": "markdown",
   "metadata": {},
   "source": [
    "### Table 7: The table represent the changes divided by the length of the string[i] to transform string[i] to string[j]"
   ]
  },
  {
   "cell_type": "code",
   "execution_count": 16,
   "metadata": {},
   "outputs": [
    {
     "data": {
      "text/html": [
       "<div>\n",
       "<style scoped>\n",
       "    .dataframe tbody tr th:only-of-type {\n",
       "        vertical-align: middle;\n",
       "    }\n",
       "\n",
       "    .dataframe tbody tr th {\n",
       "        vertical-align: top;\n",
       "    }\n",
       "\n",
       "    .dataframe thead th {\n",
       "        text-align: right;\n",
       "    }\n",
       "</style>\n",
       "<table border=\"1\" class=\"dataframe\">\n",
       "  <thead>\n",
       "    <tr style=\"text-align: right;\">\n",
       "      <th></th>\n",
       "      <th>string[0]</th>\n",
       "      <th>string[1]</th>\n",
       "      <th>string[2]</th>\n",
       "      <th>string[3]</th>\n",
       "      <th>string[4]</th>\n",
       "      <th>string[5]</th>\n",
       "      <th>string[6]</th>\n",
       "    </tr>\n",
       "  </thead>\n",
       "  <tbody>\n",
       "    <tr>\n",
       "      <th>string[0]</th>\n",
       "      <td>0.000000</td>\n",
       "      <td>0.350000</td>\n",
       "      <td>0.340000</td>\n",
       "      <td>0.410000</td>\n",
       "      <td>0.260000</td>\n",
       "      <td>0.330000</td>\n",
       "      <td>0.190000</td>\n",
       "    </tr>\n",
       "    <tr>\n",
       "      <th>string[1]</th>\n",
       "      <td>0.388889</td>\n",
       "      <td>0.000000</td>\n",
       "      <td>0.466667</td>\n",
       "      <td>0.344444</td>\n",
       "      <td>0.200000</td>\n",
       "      <td>0.555556</td>\n",
       "      <td>0.477778</td>\n",
       "    </tr>\n",
       "    <tr>\n",
       "      <th>string[2]</th>\n",
       "      <td>0.350515</td>\n",
       "      <td>0.432990</td>\n",
       "      <td>0.000000</td>\n",
       "      <td>0.463918</td>\n",
       "      <td>0.391753</td>\n",
       "      <td>0.381443</td>\n",
       "      <td>0.237113</td>\n",
       "    </tr>\n",
       "    <tr>\n",
       "      <th>string[3]</th>\n",
       "      <td>0.427083</td>\n",
       "      <td>0.322917</td>\n",
       "      <td>0.468750</td>\n",
       "      <td>0.000000</td>\n",
       "      <td>0.239583</td>\n",
       "      <td>0.531250</td>\n",
       "      <td>0.489583</td>\n",
       "    </tr>\n",
       "    <tr>\n",
       "      <th>string[4]</th>\n",
       "      <td>0.270833</td>\n",
       "      <td>0.187500</td>\n",
       "      <td>0.395833</td>\n",
       "      <td>0.239583</td>\n",
       "      <td>0.000000</td>\n",
       "      <td>0.479167</td>\n",
       "      <td>0.406250</td>\n",
       "    </tr>\n",
       "    <tr>\n",
       "      <th>string[5]</th>\n",
       "      <td>0.297297</td>\n",
       "      <td>0.450450</td>\n",
       "      <td>0.333333</td>\n",
       "      <td>0.459459</td>\n",
       "      <td>0.414414</td>\n",
       "      <td>0.000000</td>\n",
       "      <td>0.171171</td>\n",
       "    </tr>\n",
       "    <tr>\n",
       "      <th>string[6]</th>\n",
       "      <td>0.182692</td>\n",
       "      <td>0.413462</td>\n",
       "      <td>0.221154</td>\n",
       "      <td>0.451923</td>\n",
       "      <td>0.375000</td>\n",
       "      <td>0.182692</td>\n",
       "      <td>0.000000</td>\n",
       "    </tr>\n",
       "  </tbody>\n",
       "</table>\n",
       "</div>"
      ],
      "text/plain": [
       "           string[0]  string[1]  string[2]  string[3]  string[4]  string[5]  \\\n",
       "string[0]   0.000000   0.350000   0.340000   0.410000   0.260000   0.330000   \n",
       "string[1]   0.388889   0.000000   0.466667   0.344444   0.200000   0.555556   \n",
       "string[2]   0.350515   0.432990   0.000000   0.463918   0.391753   0.381443   \n",
       "string[3]   0.427083   0.322917   0.468750   0.000000   0.239583   0.531250   \n",
       "string[4]   0.270833   0.187500   0.395833   0.239583   0.000000   0.479167   \n",
       "string[5]   0.297297   0.450450   0.333333   0.459459   0.414414   0.000000   \n",
       "string[6]   0.182692   0.413462   0.221154   0.451923   0.375000   0.182692   \n",
       "\n",
       "           string[6]  \n",
       "string[0]   0.190000  \n",
       "string[1]   0.477778  \n",
       "string[2]   0.237113  \n",
       "string[3]   0.489583  \n",
       "string[4]   0.406250  \n",
       "string[5]   0.171171  \n",
       "string[6]   0.000000  "
      ]
     },
     "execution_count": 16,
     "metadata": {},
     "output_type": "execute_result"
    }
   ],
   "source": [
    "df_changes_ratio_track = pd.DataFrame(changes_ratio_track, columns=['string[0]','string[1]','string[2]',\n",
    "                                                        'string[3]','string[4]','string[5]','string[6]'])\n",
    "df_changes_ratio_track.rename(index={0:'string[0]',1:'string[1]',2:'string[2]',3:'string[3]',\n",
    "                      4:'string[4]',5:'string[5]',6:'string[6]',}, inplace=True)\n",
    "df_changes_ratio_track"
   ]
  },
  {
   "cell_type": "markdown",
   "metadata": {},
   "source": [
    "### Table 8: The heatmap represent the changes divided by the length of the string[i] to transform string[i] to string[j]"
   ]
  },
  {
   "cell_type": "code",
   "execution_count": 17,
   "metadata": {},
   "outputs": [
    {
     "data": {
      "text/plain": [
       "<matplotlib.axes._subplots.AxesSubplot at 0x2980e342ac8>"
      ]
     },
     "execution_count": 17,
     "metadata": {},
     "output_type": "execute_result"
    },
    {
     "data": {
      "image/png": "[encoded data removed]",
      "text/plain": [
       "<Figure size 432x288 with 2 Axes>"
      ]
     },
     "metadata": {},
     "output_type": "display_data"
    }
   ],
   "source": [
    "seaborn.heatmap(df_changes_ratio_track, annot=True)"
   ]
  },
  {
   "cell_type": "markdown",
   "metadata": {},
   "source": [
    "### Table 9: The table represent the number of insert among the changes to transform string[i] to string[j]"
   ]
  },
  {
   "cell_type": "code",
   "execution_count": 18,
   "metadata": {},
   "outputs": [
    {
     "data": {
      "text/html": [
       "<div>\n",
       "<style scoped>\n",
       "    .dataframe tbody tr th:only-of-type {\n",
       "        vertical-align: middle;\n",
       "    }\n",
       "\n",
       "    .dataframe tbody tr th {\n",
       "        vertical-align: top;\n",
       "    }\n",
       "\n",
       "    .dataframe thead th {\n",
       "        text-align: right;\n",
       "    }\n",
       "</style>\n",
       "<table border=\"1\" class=\"dataframe\">\n",
       "  <thead>\n",
       "    <tr style=\"text-align: right;\">\n",
       "      <th></th>\n",
       "      <th>string[0]</th>\n",
       "      <th>string[1]</th>\n",
       "      <th>string[2]</th>\n",
       "      <th>string[3]</th>\n",
       "      <th>string[4]</th>\n",
       "      <th>string[5]</th>\n",
       "      <th>string[6]</th>\n",
       "    </tr>\n",
       "  </thead>\n",
       "  <tbody>\n",
       "    <tr>\n",
       "      <th>string[0]</th>\n",
       "      <td>0</td>\n",
       "      <td>7</td>\n",
       "      <td>10</td>\n",
       "      <td>12</td>\n",
       "      <td>8</td>\n",
       "      <td>17</td>\n",
       "      <td>10</td>\n",
       "    </tr>\n",
       "    <tr>\n",
       "      <th>string[1]</th>\n",
       "      <td>17</td>\n",
       "      <td>0</td>\n",
       "      <td>17</td>\n",
       "      <td>12</td>\n",
       "      <td>8</td>\n",
       "      <td>26</td>\n",
       "      <td>19</td>\n",
       "    </tr>\n",
       "    <tr>\n",
       "      <th>string[2]</th>\n",
       "      <td>13</td>\n",
       "      <td>9</td>\n",
       "      <td>0</td>\n",
       "      <td>13</td>\n",
       "      <td>10</td>\n",
       "      <td>21</td>\n",
       "      <td>10</td>\n",
       "    </tr>\n",
       "    <tr>\n",
       "      <th>string[3]</th>\n",
       "      <td>16</td>\n",
       "      <td>6</td>\n",
       "      <td>13</td>\n",
       "      <td>0</td>\n",
       "      <td>8</td>\n",
       "      <td>23</td>\n",
       "      <td>18</td>\n",
       "    </tr>\n",
       "    <tr>\n",
       "      <th>string[4]</th>\n",
       "      <td>12</td>\n",
       "      <td>2</td>\n",
       "      <td>11</td>\n",
       "      <td>8</td>\n",
       "      <td>0</td>\n",
       "      <td>20</td>\n",
       "      <td>16</td>\n",
       "    </tr>\n",
       "    <tr>\n",
       "      <th>string[5]</th>\n",
       "      <td>6</td>\n",
       "      <td>7</td>\n",
       "      <td>6</td>\n",
       "      <td>7</td>\n",
       "      <td>6</td>\n",
       "      <td>0</td>\n",
       "      <td>5</td>\n",
       "    </tr>\n",
       "    <tr>\n",
       "      <th>string[6]</th>\n",
       "      <td>6</td>\n",
       "      <td>7</td>\n",
       "      <td>3</td>\n",
       "      <td>11</td>\n",
       "      <td>8</td>\n",
       "      <td>12</td>\n",
       "      <td>0</td>\n",
       "    </tr>\n",
       "  </tbody>\n",
       "</table>\n",
       "</div>"
      ],
      "text/plain": [
       "           string[0]  string[1]  string[2]  string[3]  string[4]  string[5]  \\\n",
       "string[0]          0          7         10         12          8         17   \n",
       "string[1]         17          0         17         12          8         26   \n",
       "string[2]         13          9          0         13         10         21   \n",
       "string[3]         16          6         13          0          8         23   \n",
       "string[4]         12          2         11          8          0         20   \n",
       "string[5]          6          7          6          7          6          0   \n",
       "string[6]          6          7          3         11          8         12   \n",
       "\n",
       "           string[6]  \n",
       "string[0]         10  \n",
       "string[1]         19  \n",
       "string[2]         10  \n",
       "string[3]         18  \n",
       "string[4]         16  \n",
       "string[5]          5  \n",
       "string[6]          0  "
      ]
     },
     "execution_count": 18,
     "metadata": {},
     "output_type": "execute_result"
    }
   ],
   "source": [
    "df_insert_track = pd.DataFrame(insert_track, columns=['string[0]','string[1]','string[2]',\n",
    "                                      'string[3]','string[4]','string[5]','string[6]'])\n",
    "df_insert_track.rename(index={0:'string[0]',1:'string[1]',2:'string[2]',3:'string[3]',\n",
    "                      4:'string[4]',5:'string[5]',6:'string[6]',}, inplace=True)\n",
    "df_insert_track"
   ]
  },
  {
   "cell_type": "markdown",
   "metadata": {},
   "source": [
    "### Table 10: The heatmap represent the number of insert among the changes to transform string[i] to string[j]"
   ]
  },
  {
   "cell_type": "code",
   "execution_count": 19,
   "metadata": {},
   "outputs": [
    {
     "data": {
      "text/plain": [
       "<matplotlib.axes._subplots.AxesSubplot at 0x2980e41fdd8>"
      ]
     },
     "execution_count": 19,
     "metadata": {},
     "output_type": "execute_result"
    },
    {
     "data": {
      "image/png": "[encoded data removed]",
      "text/plain": [
       "<Figure size 432x288 with 2 Axes>"
      ]
     },
     "metadata": {},
     "output_type": "display_data"
    }
   ],
   "source": [
    "seaborn.heatmap(df_insert_track, annot=True)"
   ]
  },
  {
   "cell_type": "markdown",
   "metadata": {},
   "source": [
    "### Table 11: The table represent the number of remove among the changes to transform string[i] to string[j]"
   ]
  },
  {
   "cell_type": "code",
   "execution_count": 20,
   "metadata": {},
   "outputs": [
    {
     "data": {
      "text/html": [
       "<div>\n",
       "<style scoped>\n",
       "    .dataframe tbody tr th:only-of-type {\n",
       "        vertical-align: middle;\n",
       "    }\n",
       "\n",
       "    .dataframe tbody tr th {\n",
       "        vertical-align: top;\n",
       "    }\n",
       "\n",
       "    .dataframe thead th {\n",
       "        text-align: right;\n",
       "    }\n",
       "</style>\n",
       "<table border=\"1\" class=\"dataframe\">\n",
       "  <thead>\n",
       "    <tr style=\"text-align: right;\">\n",
       "      <th></th>\n",
       "      <th>string[0]</th>\n",
       "      <th>string[1]</th>\n",
       "      <th>string[2]</th>\n",
       "      <th>string[3]</th>\n",
       "      <th>string[4]</th>\n",
       "      <th>string[5]</th>\n",
       "      <th>string[6]</th>\n",
       "    </tr>\n",
       "  </thead>\n",
       "  <tbody>\n",
       "    <tr>\n",
       "      <th>string[0]</th>\n",
       "      <td>0</td>\n",
       "      <td>17</td>\n",
       "      <td>13</td>\n",
       "      <td>16</td>\n",
       "      <td>12</td>\n",
       "      <td>6</td>\n",
       "      <td>6</td>\n",
       "    </tr>\n",
       "    <tr>\n",
       "      <th>string[1]</th>\n",
       "      <td>7</td>\n",
       "      <td>0</td>\n",
       "      <td>10</td>\n",
       "      <td>6</td>\n",
       "      <td>2</td>\n",
       "      <td>5</td>\n",
       "      <td>5</td>\n",
       "    </tr>\n",
       "    <tr>\n",
       "      <th>string[2]</th>\n",
       "      <td>10</td>\n",
       "      <td>16</td>\n",
       "      <td>0</td>\n",
       "      <td>14</td>\n",
       "      <td>11</td>\n",
       "      <td>7</td>\n",
       "      <td>3</td>\n",
       "    </tr>\n",
       "    <tr>\n",
       "      <th>string[3]</th>\n",
       "      <td>12</td>\n",
       "      <td>12</td>\n",
       "      <td>12</td>\n",
       "      <td>0</td>\n",
       "      <td>8</td>\n",
       "      <td>8</td>\n",
       "      <td>10</td>\n",
       "    </tr>\n",
       "    <tr>\n",
       "      <th>string[4]</th>\n",
       "      <td>8</td>\n",
       "      <td>8</td>\n",
       "      <td>10</td>\n",
       "      <td>8</td>\n",
       "      <td>0</td>\n",
       "      <td>5</td>\n",
       "      <td>8</td>\n",
       "    </tr>\n",
       "    <tr>\n",
       "      <th>string[5]</th>\n",
       "      <td>17</td>\n",
       "      <td>28</td>\n",
       "      <td>20</td>\n",
       "      <td>22</td>\n",
       "      <td>21</td>\n",
       "      <td>0</td>\n",
       "      <td>12</td>\n",
       "    </tr>\n",
       "    <tr>\n",
       "      <th>string[6]</th>\n",
       "      <td>10</td>\n",
       "      <td>21</td>\n",
       "      <td>10</td>\n",
       "      <td>19</td>\n",
       "      <td>16</td>\n",
       "      <td>5</td>\n",
       "      <td>0</td>\n",
       "    </tr>\n",
       "  </tbody>\n",
       "</table>\n",
       "</div>"
      ],
      "text/plain": [
       "           string[0]  string[1]  string[2]  string[3]  string[4]  string[5]  \\\n",
       "string[0]          0         17         13         16         12          6   \n",
       "string[1]          7          0         10          6          2          5   \n",
       "string[2]         10         16          0         14         11          7   \n",
       "string[3]         12         12         12          0          8          8   \n",
       "string[4]          8          8         10          8          0          5   \n",
       "string[5]         17         28         20         22         21          0   \n",
       "string[6]         10         21         10         19         16          5   \n",
       "\n",
       "           string[6]  \n",
       "string[0]          6  \n",
       "string[1]          5  \n",
       "string[2]          3  \n",
       "string[3]         10  \n",
       "string[4]          8  \n",
       "string[5]         12  \n",
       "string[6]          0  "
      ]
     },
     "execution_count": 20,
     "metadata": {},
     "output_type": "execute_result"
    }
   ],
   "source": [
    "df_remove_track = pd.DataFrame(remove_track, columns=['string[0]','string[1]','string[2]',\n",
    "                                      'string[3]','string[4]','string[5]','string[6]'])\n",
    "df_remove_track.rename(index={0:'string[0]',1:'string[1]',2:'string[2]',3:'string[3]',\n",
    "                      4:'string[4]',5:'string[5]',6:'string[6]',}, inplace=True)\n",
    "df_remove_track"
   ]
  },
  {
   "cell_type": "markdown",
   "metadata": {},
   "source": [
    "### Table 12: Theheatmap represent the number of remove among the changes to transform string[i] to string[j]"
   ]
  },
  {
   "cell_type": "code",
   "execution_count": 21,
   "metadata": {},
   "outputs": [
    {
     "data": {
      "text/plain": [
       "<matplotlib.axes._subplots.AxesSubplot at 0x2980e4a6e10>"
      ]
     },
     "execution_count": 21,
     "metadata": {},
     "output_type": "execute_result"
    },
    {
     "data": {
      "image/png": "[encoded data removed]",
      "text/plain": [
       "<Figure size 432x288 with 2 Axes>"
      ]
     },
     "metadata": {},
     "output_type": "display_data"
    }
   ],
   "source": [
    "seaborn.heatmap(df_remove_track, annot=True)"
   ]
  },
  {
   "cell_type": "markdown",
   "metadata": {},
   "source": [
    "### Table 13: The table represent the number of replace among the changes to transform string[i] to string[j]"
   ]
  },
  {
   "cell_type": "code",
   "execution_count": 22,
   "metadata": {},
   "outputs": [
    {
     "data": {
      "text/html": [
       "<div>\n",
       "<style scoped>\n",
       "    .dataframe tbody tr th:only-of-type {\n",
       "        vertical-align: middle;\n",
       "    }\n",
       "\n",
       "    .dataframe tbody tr th {\n",
       "        vertical-align: top;\n",
       "    }\n",
       "\n",
       "    .dataframe thead th {\n",
       "        text-align: right;\n",
       "    }\n",
       "</style>\n",
       "<table border=\"1\" class=\"dataframe\">\n",
       "  <thead>\n",
       "    <tr style=\"text-align: right;\">\n",
       "      <th></th>\n",
       "      <th>string[0]</th>\n",
       "      <th>string[1]</th>\n",
       "      <th>string[2]</th>\n",
       "      <th>string[3]</th>\n",
       "      <th>string[4]</th>\n",
       "      <th>string[5]</th>\n",
       "      <th>string[6]</th>\n",
       "    </tr>\n",
       "  </thead>\n",
       "  <tbody>\n",
       "    <tr>\n",
       "      <th>string[0]</th>\n",
       "      <td>0</td>\n",
       "      <td>11</td>\n",
       "      <td>11</td>\n",
       "      <td>13</td>\n",
       "      <td>6</td>\n",
       "      <td>10</td>\n",
       "      <td>3</td>\n",
       "    </tr>\n",
       "    <tr>\n",
       "      <th>string[1]</th>\n",
       "      <td>11</td>\n",
       "      <td>0</td>\n",
       "      <td>15</td>\n",
       "      <td>13</td>\n",
       "      <td>8</td>\n",
       "      <td>19</td>\n",
       "      <td>19</td>\n",
       "    </tr>\n",
       "    <tr>\n",
       "      <th>string[2]</th>\n",
       "      <td>11</td>\n",
       "      <td>17</td>\n",
       "      <td>0</td>\n",
       "      <td>18</td>\n",
       "      <td>17</td>\n",
       "      <td>9</td>\n",
       "      <td>10</td>\n",
       "    </tr>\n",
       "    <tr>\n",
       "      <th>string[3]</th>\n",
       "      <td>13</td>\n",
       "      <td>13</td>\n",
       "      <td>20</td>\n",
       "      <td>0</td>\n",
       "      <td>7</td>\n",
       "      <td>20</td>\n",
       "      <td>19</td>\n",
       "    </tr>\n",
       "    <tr>\n",
       "      <th>string[4]</th>\n",
       "      <td>6</td>\n",
       "      <td>8</td>\n",
       "      <td>17</td>\n",
       "      <td>7</td>\n",
       "      <td>0</td>\n",
       "      <td>21</td>\n",
       "      <td>15</td>\n",
       "    </tr>\n",
       "    <tr>\n",
       "      <th>string[5]</th>\n",
       "      <td>10</td>\n",
       "      <td>15</td>\n",
       "      <td>11</td>\n",
       "      <td>22</td>\n",
       "      <td>19</td>\n",
       "      <td>0</td>\n",
       "      <td>2</td>\n",
       "    </tr>\n",
       "    <tr>\n",
       "      <th>string[6]</th>\n",
       "      <td>3</td>\n",
       "      <td>15</td>\n",
       "      <td>10</td>\n",
       "      <td>17</td>\n",
       "      <td>15</td>\n",
       "      <td>2</td>\n",
       "      <td>0</td>\n",
       "    </tr>\n",
       "  </tbody>\n",
       "</table>\n",
       "</div>"
      ],
      "text/plain": [
       "           string[0]  string[1]  string[2]  string[3]  string[4]  string[5]  \\\n",
       "string[0]          0         11         11         13          6         10   \n",
       "string[1]         11          0         15         13          8         19   \n",
       "string[2]         11         17          0         18         17          9   \n",
       "string[3]         13         13         20          0          7         20   \n",
       "string[4]          6          8         17          7          0         21   \n",
       "string[5]         10         15         11         22         19          0   \n",
       "string[6]          3         15         10         17         15          2   \n",
       "\n",
       "           string[6]  \n",
       "string[0]          3  \n",
       "string[1]         19  \n",
       "string[2]         10  \n",
       "string[3]         19  \n",
       "string[4]         15  \n",
       "string[5]          2  \n",
       "string[6]          0  "
      ]
     },
     "execution_count": 22,
     "metadata": {},
     "output_type": "execute_result"
    }
   ],
   "source": [
    "df_replace_track = pd.DataFrame(replace_track, columns=['string[0]','string[1]','string[2]',\n",
    "                                      'string[3]','string[4]','string[5]','string[6]'])\n",
    "df_replace_track.rename(index={0:'string[0]',1:'string[1]',2:'string[2]',3:'string[3]',\n",
    "                      4:'string[4]',5:'string[5]',6:'string[6]',}, inplace=True)\n",
    "df_replace_track"
   ]
  },
  {
   "cell_type": "markdown",
   "metadata": {},
   "source": [
    "### Table 14: The table represent the number of replaces among the changes to transform string[i] to string[j]"
   ]
  },
  {
   "cell_type": "code",
   "execution_count": 23,
   "metadata": {},
   "outputs": [
    {
     "data": {
      "text/plain": [
       "<matplotlib.axes._subplots.AxesSubplot at 0x2980e505550>"
      ]
     },
     "execution_count": 23,
     "metadata": {},
     "output_type": "execute_result"
    },
    {
     "data": {
      "image/png": "[encoded data removed]",
      "text/plain": [
       "<Figure size 432x288 with 2 Axes>"
      ]
     },
     "metadata": {},
     "output_type": "display_data"
    }
   ],
   "source": [
    "seaborn.heatmap(df_replace_track, annot=True)"
   ]
  },
  {
   "cell_type": "markdown",
   "metadata": {},
   "source": [
    "### Table 15: The table represent the ratio between the number of insert among the changes to transform string[i] to string[j] and the length of string[i]"
   ]
  },
  {
   "cell_type": "code",
   "execution_count": 24,
   "metadata": {},
   "outputs": [
    {
     "data": {
      "text/html": [
       "<div>\n",
       "<style scoped>\n",
       "    .dataframe tbody tr th:only-of-type {\n",
       "        vertical-align: middle;\n",
       "    }\n",
       "\n",
       "    .dataframe tbody tr th {\n",
       "        vertical-align: top;\n",
       "    }\n",
       "\n",
       "    .dataframe thead th {\n",
       "        text-align: right;\n",
       "    }\n",
       "</style>\n",
       "<table border=\"1\" class=\"dataframe\">\n",
       "  <thead>\n",
       "    <tr style=\"text-align: right;\">\n",
       "      <th></th>\n",
       "      <th>string[0]</th>\n",
       "      <th>string[1]</th>\n",
       "      <th>string[2]</th>\n",
       "      <th>string[3]</th>\n",
       "      <th>string[4]</th>\n",
       "      <th>string[5]</th>\n",
       "      <th>string[6]</th>\n",
       "    </tr>\n",
       "  </thead>\n",
       "  <tbody>\n",
       "    <tr>\n",
       "      <th>string[0]</th>\n",
       "      <td>0.000000</td>\n",
       "      <td>0.070000</td>\n",
       "      <td>0.100000</td>\n",
       "      <td>0.120000</td>\n",
       "      <td>0.080000</td>\n",
       "      <td>0.170000</td>\n",
       "      <td>0.100000</td>\n",
       "    </tr>\n",
       "    <tr>\n",
       "      <th>string[1]</th>\n",
       "      <td>0.188889</td>\n",
       "      <td>0.000000</td>\n",
       "      <td>0.188889</td>\n",
       "      <td>0.133333</td>\n",
       "      <td>0.088889</td>\n",
       "      <td>0.288889</td>\n",
       "      <td>0.211111</td>\n",
       "    </tr>\n",
       "    <tr>\n",
       "      <th>string[2]</th>\n",
       "      <td>0.134021</td>\n",
       "      <td>0.092784</td>\n",
       "      <td>0.000000</td>\n",
       "      <td>0.134021</td>\n",
       "      <td>0.103093</td>\n",
       "      <td>0.216495</td>\n",
       "      <td>0.103093</td>\n",
       "    </tr>\n",
       "    <tr>\n",
       "      <th>string[3]</th>\n",
       "      <td>0.166667</td>\n",
       "      <td>0.062500</td>\n",
       "      <td>0.135417</td>\n",
       "      <td>0.000000</td>\n",
       "      <td>0.083333</td>\n",
       "      <td>0.239583</td>\n",
       "      <td>0.187500</td>\n",
       "    </tr>\n",
       "    <tr>\n",
       "      <th>string[4]</th>\n",
       "      <td>0.125000</td>\n",
       "      <td>0.020833</td>\n",
       "      <td>0.114583</td>\n",
       "      <td>0.083333</td>\n",
       "      <td>0.000000</td>\n",
       "      <td>0.208333</td>\n",
       "      <td>0.166667</td>\n",
       "    </tr>\n",
       "    <tr>\n",
       "      <th>string[5]</th>\n",
       "      <td>0.054054</td>\n",
       "      <td>0.063063</td>\n",
       "      <td>0.054054</td>\n",
       "      <td>0.063063</td>\n",
       "      <td>0.054054</td>\n",
       "      <td>0.000000</td>\n",
       "      <td>0.045045</td>\n",
       "    </tr>\n",
       "    <tr>\n",
       "      <th>string[6]</th>\n",
       "      <td>0.057692</td>\n",
       "      <td>0.067308</td>\n",
       "      <td>0.028846</td>\n",
       "      <td>0.105769</td>\n",
       "      <td>0.076923</td>\n",
       "      <td>0.115385</td>\n",
       "      <td>0.000000</td>\n",
       "    </tr>\n",
       "  </tbody>\n",
       "</table>\n",
       "</div>"
      ],
      "text/plain": [
       "           string[0]  string[1]  string[2]  string[3]  string[4]  string[5]  \\\n",
       "string[0]   0.000000   0.070000   0.100000   0.120000   0.080000   0.170000   \n",
       "string[1]   0.188889   0.000000   0.188889   0.133333   0.088889   0.288889   \n",
       "string[2]   0.134021   0.092784   0.000000   0.134021   0.103093   0.216495   \n",
       "string[3]   0.166667   0.062500   0.135417   0.000000   0.083333   0.239583   \n",
       "string[4]   0.125000   0.020833   0.114583   0.083333   0.000000   0.208333   \n",
       "string[5]   0.054054   0.063063   0.054054   0.063063   0.054054   0.000000   \n",
       "string[6]   0.057692   0.067308   0.028846   0.105769   0.076923   0.115385   \n",
       "\n",
       "           string[6]  \n",
       "string[0]   0.100000  \n",
       "string[1]   0.211111  \n",
       "string[2]   0.103093  \n",
       "string[3]   0.187500  \n",
       "string[4]   0.166667  \n",
       "string[5]   0.045045  \n",
       "string[6]   0.000000  "
      ]
     },
     "execution_count": 24,
     "metadata": {},
     "output_type": "execute_result"
    }
   ],
   "source": [
    "df_insert_ratio_track = pd.DataFrame(insert_ratio_track, columns=['string[0]','string[1]','string[2]',\n",
    "                                      'string[3]','string[4]','string[5]','string[6]'])\n",
    "df_insert_ratio_track.rename(index={0:'string[0]',1:'string[1]',2:'string[2]',3:'string[3]',\n",
    "                      4:'string[4]',5:'string[5]',6:'string[6]',}, inplace=True)\n",
    "df_insert_ratio_track"
   ]
  },
  {
   "cell_type": "markdown",
   "metadata": {},
   "source": [
    "### Table 16: The heatmap represent the ratio between the number of insert among the changes to transform string[i] to string[j] and the length of string[i]"
   ]
  },
  {
   "cell_type": "code",
   "execution_count": 25,
   "metadata": {},
   "outputs": [
    {
     "data": {
      "text/plain": [
       "<matplotlib.axes._subplots.AxesSubplot at 0x2980e650c88>"
      ]
     },
     "execution_count": 25,
     "metadata": {},
     "output_type": "execute_result"
    },
    {
     "data": {
      "image/png": "[encoded data removed]",
      "text/plain": [
       "<Figure size 432x288 with 2 Axes>"
      ]
     },
     "metadata": {},
     "output_type": "display_data"
    }
   ],
   "source": [
    "seaborn.heatmap(df_insert_ratio_track, annot=True)"
   ]
  },
  {
   "cell_type": "markdown",
   "metadata": {},
   "source": [
    "### Table 17: The table represent the ratio between the number of remove among the changes to transform string[i] to string[j] and the length of string[i]"
   ]
  },
  {
   "cell_type": "code",
   "execution_count": 26,
   "metadata": {},
   "outputs": [
    {
     "data": {
      "text/html": [
       "<div>\n",
       "<style scoped>\n",
       "    .dataframe tbody tr th:only-of-type {\n",
       "        vertical-align: middle;\n",
       "    }\n",
       "\n",
       "    .dataframe tbody tr th {\n",
       "        vertical-align: top;\n",
       "    }\n",
       "\n",
       "    .dataframe thead th {\n",
       "        text-align: right;\n",
       "    }\n",
       "</style>\n",
       "<table border=\"1\" class=\"dataframe\">\n",
       "  <thead>\n",
       "    <tr style=\"text-align: right;\">\n",
       "      <th></th>\n",
       "      <th>string[0]</th>\n",
       "      <th>string[1]</th>\n",
       "      <th>string[2]</th>\n",
       "      <th>string[3]</th>\n",
       "      <th>string[4]</th>\n",
       "      <th>string[5]</th>\n",
       "      <th>string[6]</th>\n",
       "    </tr>\n",
       "  </thead>\n",
       "  <tbody>\n",
       "    <tr>\n",
       "      <th>string[0]</th>\n",
       "      <td>0.000000</td>\n",
       "      <td>0.170000</td>\n",
       "      <td>0.130000</td>\n",
       "      <td>0.160000</td>\n",
       "      <td>0.120000</td>\n",
       "      <td>0.060000</td>\n",
       "      <td>0.060000</td>\n",
       "    </tr>\n",
       "    <tr>\n",
       "      <th>string[1]</th>\n",
       "      <td>0.077778</td>\n",
       "      <td>0.000000</td>\n",
       "      <td>0.111111</td>\n",
       "      <td>0.066667</td>\n",
       "      <td>0.022222</td>\n",
       "      <td>0.055556</td>\n",
       "      <td>0.055556</td>\n",
       "    </tr>\n",
       "    <tr>\n",
       "      <th>string[2]</th>\n",
       "      <td>0.103093</td>\n",
       "      <td>0.164948</td>\n",
       "      <td>0.000000</td>\n",
       "      <td>0.144330</td>\n",
       "      <td>0.113402</td>\n",
       "      <td>0.072165</td>\n",
       "      <td>0.030928</td>\n",
       "    </tr>\n",
       "    <tr>\n",
       "      <th>string[3]</th>\n",
       "      <td>0.125000</td>\n",
       "      <td>0.125000</td>\n",
       "      <td>0.125000</td>\n",
       "      <td>0.000000</td>\n",
       "      <td>0.083333</td>\n",
       "      <td>0.083333</td>\n",
       "      <td>0.104167</td>\n",
       "    </tr>\n",
       "    <tr>\n",
       "      <th>string[4]</th>\n",
       "      <td>0.083333</td>\n",
       "      <td>0.083333</td>\n",
       "      <td>0.104167</td>\n",
       "      <td>0.083333</td>\n",
       "      <td>0.000000</td>\n",
       "      <td>0.052083</td>\n",
       "      <td>0.083333</td>\n",
       "    </tr>\n",
       "    <tr>\n",
       "      <th>string[5]</th>\n",
       "      <td>0.153153</td>\n",
       "      <td>0.252252</td>\n",
       "      <td>0.180180</td>\n",
       "      <td>0.198198</td>\n",
       "      <td>0.189189</td>\n",
       "      <td>0.000000</td>\n",
       "      <td>0.108108</td>\n",
       "    </tr>\n",
       "    <tr>\n",
       "      <th>string[6]</th>\n",
       "      <td>0.096154</td>\n",
       "      <td>0.201923</td>\n",
       "      <td>0.096154</td>\n",
       "      <td>0.182692</td>\n",
       "      <td>0.153846</td>\n",
       "      <td>0.048077</td>\n",
       "      <td>0.000000</td>\n",
       "    </tr>\n",
       "  </tbody>\n",
       "</table>\n",
       "</div>"
      ],
      "text/plain": [
       "           string[0]  string[1]  string[2]  string[3]  string[4]  string[5]  \\\n",
       "string[0]   0.000000   0.170000   0.130000   0.160000   0.120000   0.060000   \n",
       "string[1]   0.077778   0.000000   0.111111   0.066667   0.022222   0.055556   \n",
       "string[2]   0.103093   0.164948   0.000000   0.144330   0.113402   0.072165   \n",
       "string[3]   0.125000   0.125000   0.125000   0.000000   0.083333   0.083333   \n",
       "string[4]   0.083333   0.083333   0.104167   0.083333   0.000000   0.052083   \n",
       "string[5]   0.153153   0.252252   0.180180   0.198198   0.189189   0.000000   \n",
       "string[6]   0.096154   0.201923   0.096154   0.182692   0.153846   0.048077   \n",
       "\n",
       "           string[6]  \n",
       "string[0]   0.060000  \n",
       "string[1]   0.055556  \n",
       "string[2]   0.030928  \n",
       "string[3]   0.104167  \n",
       "string[4]   0.083333  \n",
       "string[5]   0.108108  \n",
       "string[6]   0.000000  "
      ]
     },
     "execution_count": 26,
     "metadata": {},
     "output_type": "execute_result"
    }
   ],
   "source": [
    "df_remove_ratio_track = pd.DataFrame(remove_ratio_track, columns=['string[0]','string[1]','string[2]',\n",
    "                                      'string[3]','string[4]','string[5]','string[6]'])\n",
    "df_remove_ratio_track.rename(index={0:'string[0]',1:'string[1]',2:'string[2]',3:'string[3]',\n",
    "                      4:'string[4]',5:'string[5]',6:'string[6]',}, inplace=True)\n",
    "df_remove_ratio_track"
   ]
  },
  {
   "cell_type": "markdown",
   "metadata": {},
   "source": [
    "### Table 18: The heatmap represent the ratio between the number of remove among the changes to transform string[i] to string[j] and the length of string[i]"
   ]
  },
  {
   "cell_type": "code",
   "execution_count": 27,
   "metadata": {},
   "outputs": [
    {
     "data": {
      "text/plain": [
       "<matplotlib.axes._subplots.AxesSubplot at 0x2980e650828>"
      ]
     },
     "execution_count": 27,
     "metadata": {},
     "output_type": "execute_result"
    },
    {
     "data": {
      "image/png": "[encoded data removed]",
      "text/plain": [
       "<Figure size 432x288 with 2 Axes>"
      ]
     },
     "metadata": {},
     "output_type": "display_data"
    }
   ],
   "source": [
    "seaborn.heatmap(df_remove_ratio_track, annot=True)"
   ]
  },
  {
   "cell_type": "markdown",
   "metadata": {},
   "source": [
    "### Table 19: The table represent the ratio between the number of replace among the changes to transform string[i] to string[j] and the length of string[i]"
   ]
  },
  {
   "cell_type": "code",
   "execution_count": 28,
   "metadata": {},
   "outputs": [
    {
     "data": {
      "text/html": [
       "<div>\n",
       "<style scoped>\n",
       "    .dataframe tbody tr th:only-of-type {\n",
       "        vertical-align: middle;\n",
       "    }\n",
       "\n",
       "    .dataframe tbody tr th {\n",
       "        vertical-align: top;\n",
       "    }\n",
       "\n",
       "    .dataframe thead th {\n",
       "        text-align: right;\n",
       "    }\n",
       "</style>\n",
       "<table border=\"1\" class=\"dataframe\">\n",
       "  <thead>\n",
       "    <tr style=\"text-align: right;\">\n",
       "      <th></th>\n",
       "      <th>string[0]</th>\n",
       "      <th>string[1]</th>\n",
       "      <th>string[2]</th>\n",
       "      <th>string[3]</th>\n",
       "      <th>string[4]</th>\n",
       "      <th>string[5]</th>\n",
       "      <th>string[6]</th>\n",
       "    </tr>\n",
       "  </thead>\n",
       "  <tbody>\n",
       "    <tr>\n",
       "      <th>string[0]</th>\n",
       "      <td>0.000000</td>\n",
       "      <td>0.110000</td>\n",
       "      <td>0.110000</td>\n",
       "      <td>0.130000</td>\n",
       "      <td>0.060000</td>\n",
       "      <td>0.100000</td>\n",
       "      <td>0.030000</td>\n",
       "    </tr>\n",
       "    <tr>\n",
       "      <th>string[1]</th>\n",
       "      <td>0.122222</td>\n",
       "      <td>0.000000</td>\n",
       "      <td>0.166667</td>\n",
       "      <td>0.144444</td>\n",
       "      <td>0.088889</td>\n",
       "      <td>0.211111</td>\n",
       "      <td>0.211111</td>\n",
       "    </tr>\n",
       "    <tr>\n",
       "      <th>string[2]</th>\n",
       "      <td>0.113402</td>\n",
       "      <td>0.175258</td>\n",
       "      <td>0.000000</td>\n",
       "      <td>0.185567</td>\n",
       "      <td>0.175258</td>\n",
       "      <td>0.092784</td>\n",
       "      <td>0.103093</td>\n",
       "    </tr>\n",
       "    <tr>\n",
       "      <th>string[3]</th>\n",
       "      <td>0.135417</td>\n",
       "      <td>0.135417</td>\n",
       "      <td>0.208333</td>\n",
       "      <td>0.000000</td>\n",
       "      <td>0.072917</td>\n",
       "      <td>0.208333</td>\n",
       "      <td>0.197917</td>\n",
       "    </tr>\n",
       "    <tr>\n",
       "      <th>string[4]</th>\n",
       "      <td>0.062500</td>\n",
       "      <td>0.083333</td>\n",
       "      <td>0.177083</td>\n",
       "      <td>0.072917</td>\n",
       "      <td>0.000000</td>\n",
       "      <td>0.218750</td>\n",
       "      <td>0.156250</td>\n",
       "    </tr>\n",
       "    <tr>\n",
       "      <th>string[5]</th>\n",
       "      <td>0.090090</td>\n",
       "      <td>0.135135</td>\n",
       "      <td>0.099099</td>\n",
       "      <td>0.198198</td>\n",
       "      <td>0.171171</td>\n",
       "      <td>0.000000</td>\n",
       "      <td>0.018018</td>\n",
       "    </tr>\n",
       "    <tr>\n",
       "      <th>string[6]</th>\n",
       "      <td>0.028846</td>\n",
       "      <td>0.144231</td>\n",
       "      <td>0.096154</td>\n",
       "      <td>0.163462</td>\n",
       "      <td>0.144231</td>\n",
       "      <td>0.019231</td>\n",
       "      <td>0.000000</td>\n",
       "    </tr>\n",
       "  </tbody>\n",
       "</table>\n",
       "</div>"
      ],
      "text/plain": [
       "           string[0]  string[1]  string[2]  string[3]  string[4]  string[5]  \\\n",
       "string[0]   0.000000   0.110000   0.110000   0.130000   0.060000   0.100000   \n",
       "string[1]   0.122222   0.000000   0.166667   0.144444   0.088889   0.211111   \n",
       "string[2]   0.113402   0.175258   0.000000   0.185567   0.175258   0.092784   \n",
       "string[3]   0.135417   0.135417   0.208333   0.000000   0.072917   0.208333   \n",
       "string[4]   0.062500   0.083333   0.177083   0.072917   0.000000   0.218750   \n",
       "string[5]   0.090090   0.135135   0.099099   0.198198   0.171171   0.000000   \n",
       "string[6]   0.028846   0.144231   0.096154   0.163462   0.144231   0.019231   \n",
       "\n",
       "           string[6]  \n",
       "string[0]   0.030000  \n",
       "string[1]   0.211111  \n",
       "string[2]   0.103093  \n",
       "string[3]   0.197917  \n",
       "string[4]   0.156250  \n",
       "string[5]   0.018018  \n",
       "string[6]   0.000000  "
      ]
     },
     "execution_count": 28,
     "metadata": {},
     "output_type": "execute_result"
    }
   ],
   "source": [
    "df_replace_ratio_track = pd.DataFrame(replace_ratio_track, columns=['string[0]','string[1]','string[2]',\n",
    "                                      'string[3]','string[4]','string[5]','string[6]'])\n",
    "df_replace_ratio_track.rename(index={0:'string[0]',1:'string[1]',2:'string[2]',3:'string[3]',\n",
    "                      4:'string[4]',5:'string[5]',6:'string[6]',}, inplace=True)\n",
    "df_replace_ratio_track"
   ]
  },
  {
   "cell_type": "markdown",
   "metadata": {},
   "source": [
    "### Table 20: The table represent the ratio between the number of remove among the changes to transform string[i] to string[j] and the length of string[i]"
   ]
  },
  {
   "cell_type": "code",
   "execution_count": 29,
   "metadata": {},
   "outputs": [
    {
     "data": {
      "text/plain": [
       "<matplotlib.axes._subplots.AxesSubplot at 0x2980e78c160>"
      ]
     },
     "execution_count": 29,
     "metadata": {},
     "output_type": "execute_result"
    },
    {
     "data": {
      "image/png": "[encoded data removed]",
      "text/plain": [
       "<Figure size 432x288 with 2 Axes>"
      ]
     },
     "metadata": {},
     "output_type": "display_data"
    }
   ],
   "source": [
    "seaborn.heatmap(df_replace_ratio_track, annot=True)"
   ]
  },
  {
   "cell_type": "code",
   "execution_count": null,
   "metadata": {},
   "outputs": [],
   "source": []
  },
  {
   "cell_type": "code",
   "execution_count": null,
   "metadata": {},
   "outputs": [],
   "source": []
  },
  {
   "cell_type": "markdown",
   "metadata": {},
   "source": [
    "### Building a tree building algorithms"
   ]
  },
  {
   "cell_type": "markdown",
   "metadata": {},
   "source": [
    "#### In order to have the correct probability of insert, remove, and replace, we can only measure those between the direct relationship pair. Hence. I combine the probability calculation part and the tree building part\n",
    "\n",
    "#### My idea for tree building algorithm is that I will pick the (genes - 1) lowest changes ratio. The reason is that, a direct relationship will need less effort to change from 1 gene to another compared to changing between 2 non-related genes. \n",
    "\n",
    "#### The way we do it is to go through every pair, which is $ ^nC_2$ with n is the number of genes. We then select the smallest n-1 items, represent the direct relations.  The number of direct relations is the number of genes - 1  because each node need to have 1 parents (1 connection) except the grand and these connections are unique and different. Hence, we have connections = number of nodes - 1 = genes - 1 = n-1.\n",
    "\n",
    "#### From those n-1 distinct relations, I will form a family tree. The basic idea is I find whether each node is identified as \"grand\", \"parent\" or \"child\", depends on the number of its connections. From there, I find the \"grand\": the root of the tree and start to build down.\n",
    "\n",
    "#### The algorithm based on the assumption that the direct relations will have lower changes ratio (ratio - the normalized data, not the number of changes). And the algorithm - the tree can only works when there is full generations, meaning every \"grand\" and \"parent\" nodes have 2 children; the \"parent\" and \"child\" nodes have exactly 1 parent.\n",
    "\n",
    "#### The strength of the algorithm is that it works in a generic and logical way, if given full generations. Also, the code failed when anomalies happens: when the indirect relations have a lower changes_ratio compared to a direct relations. However, the chances of this happening is quite low. Finally, the edit_distance algorithm assume the genes are changed in the optimal way. In real life, this might not be the case. However, the assumption stated here is reasonable and valid."
   ]
  },
  {
   "cell_type": "code",
   "execution_count": 30,
   "metadata": {},
   "outputs": [
    {
     "name": "stdout",
     "output_type": "stream",
     "text": [
      "0 :  grand, par: no parents, child:  4  -  6\n",
      "1 :  child, par:  4, child: no children\n",
      "2 :  child, par:  6, child: no children\n",
      "3 :  child, par:  4, child: no children\n",
      "4 :  parent, par:  0, child:  1  -  3\n",
      "5 :  child, par:  6, child: no children\n",
      "6 :  parent, par:  0, child:  2  -  5\n"
     ]
    }
   ],
   "source": [
    "# we try to creare a tree \n",
    "\n",
    "class Node:\n",
    "    # each node has 6 properties\n",
    "    ### name: the name of the node\n",
    "    ### par: parents\n",
    "    ### lch: the 1st child\n",
    "    ### rch: the 2nd child\n",
    "    ### adj: the nodes those they have close relation with (parents/child)\n",
    "    ##### adj is only has support roles, not needed in long run\n",
    "    ### pro: properties: they are grandparents (have no parents), \n",
    "    ##### parents (have parents and child), or children (have no child)\n",
    "    def __init__(self, name):\n",
    "        # the names of the node\n",
    "        self.name = name\n",
    "        # its adjecent values\n",
    "        self.par = 'None'\n",
    "        self.lch = 'None'\n",
    "        self.rch = 'None'\n",
    "        self.adj = []\n",
    "        self.pro = 'None'   \n",
    "\n",
    "        \n",
    "# This is to add the relation between 2 nodes\n",
    "### as we don't know the specific relation (parents/children)\n",
    "### hence, we put in in adj lists\n",
    "def add_edge(self, node): \n",
    "    if node.name not in self.adj: \n",
    "        # as A have relation with B means B have relation with A\n",
    "        # Hence, we add relations to both sides\n",
    "        self.adj.append(node)\n",
    "        node.adj.append(self)\n",
    "\n",
    "        \n",
    "# After we have the properties list, we can predict the properties\n",
    "# the properties list is the number of connections each node has\n",
    "def family(self, properties):\n",
    "    # if you have only 1 coonnection: you are the child \n",
    "    ### (have no children and 1 parent)\n",
    "    if properties[self.name] == 1:\n",
    "        self.pro = 'child'\n",
    "    # if you have only 2 coonnection: you are the grandparents \n",
    "    ### (have no parents and 2 children)\n",
    "    elif properties[self.name] == 2:\n",
    "        self.pro = 'grand'\n",
    "        self.lch = self.adj[0]\n",
    "        self.rch = self.adj[1]\n",
    "        self.adj[0].par = self\n",
    "        self.adj[1].par = self\n",
    "    # other cases: \n",
    "    else: \n",
    "        self.pro = 'parent'\n",
    "    return self.pro\n",
    "    \n",
    "    \n",
    "# run through the tree from the root to identify the relationship between nodes\n",
    "# the self variable is the root (grandparents)\n",
    "def dfs(self):\n",
    "    if self.par == 'None':\n",
    "        # As we start from the grandparents\n",
    "        # If it has no parents\n",
    "        # Its adj are its 2 children\n",
    "        # randomly select the lch and rch based on adj\n",
    "        self.lch = self.adj[0]\n",
    "        self.rch = self.adj[1]\n",
    "        # the relationship is reciprical\n",
    "        # if A is B's child -> B is A's parents\n",
    "        self.adj[0].par = self\n",
    "        self.adj[1].par = self\n",
    "        # go through the children nodes\n",
    "        dfs(self.adj[0])\n",
    "        dfs(self.adj[1])\n",
    "    elif self.par != 'None':\n",
    "        # this means this node is not grandparents\n",
    "        # we remove the parents from the adj list (to only consider the child)\n",
    "        self.adj.remove(self.par)\n",
    "        if self.adj != []:\n",
    "            # this means this node is not a global child \n",
    "            # so it has children\n",
    "            # Its adj are now its 2 children\n",
    "            # randomly select the lch and rch based on adj\n",
    "            self.lch = self.adj[0]\n",
    "            self.rch = self.adj[1]\n",
    "            # the relationship is reciprical\n",
    "            # if A is B's child -> B is A's parents\n",
    "            self.adj[0].par = self\n",
    "            self.adj[1].par = self\n",
    "            # go through the children nodes\n",
    "            dfs(self.adj[0])\n",
    "            dfs(self.adj[1])\n",
    "\n",
    "# print the property node\n",
    "def output(gpr): \n",
    "    # name and property\n",
    "    print(gpr.name, \": \", gpr.pro, end = ', ')\n",
    "    \n",
    "    # if not 'grand', then it will have parents\n",
    "    if gpr.pro == 'grand': \n",
    "        print(\"par: no parents\", end = ', ')\n",
    "    else: \n",
    "        print('par: ', gpr.par.name, end = ', ')\n",
    "        \n",
    "    # if not global child, it will have children\n",
    "    if gpr.pro == 'child': \n",
    "        print(\"child: no children\")\n",
    "    else: \n",
    "        print(\"child: \", gpr.lch.name, ' - ', gpr.rch.name)\n",
    "\n",
    "# here is the number of genes we have\n",
    "genes = 7\n",
    "\n",
    "# Create the list to contain the nodes' information\n",
    "Nodes = []\n",
    "for i in range(genes):\n",
    "    Nodes.append(Node(i))\n",
    "\n",
    "# the list contain the number of changes (edit_distance) from string i to j\n",
    "changes = []\n",
    "\n",
    "# create all pair wise combination of genes and go through edit_distance\n",
    "for i in range(genes):\n",
    "    for j in range(i+1,genes):\n",
    "        # we use the ratio table as we know the number of changes might not efficient\n",
    "        # the number of changes is also dependent on the length of the string\n",
    "        # Hence, use the ratio to normalize the data\n",
    "        changes.append(changes_ratio_track[i][j])\n",
    "# sort the list\n",
    "changes.sort()\n",
    "\n",
    "# the properties function is about the connections of one node\n",
    "properties = [0]*genes\n",
    "\n",
    "related_insert_ratio = []\n",
    "related_remove_ratio = []\n",
    "related_replace_ratio = []\n",
    "\n",
    "# run through the nodes again\n",
    "for i in range(genes):\n",
    "    for j in range(i+1,genes):\n",
    "        # if the ratio is in the minimum (genes-1) of the ratio\n",
    "        # the reason the genes-1 is because if:\n",
    "        ### the number of genes is of 3 generations: genes = 2^3-1 = 7 genes\n",
    "        ### the number of connection is the number of genes - 1\n",
    "        ### because each node need to have 1 parents (1 connection) except the grand\n",
    "        ### and these connections are unique and different\n",
    "        ### hence, we have connections = number of nodes - 1 = genes - 1\n",
    "        if changes_ratio_track[i][j] in changes[0:genes-1]:\n",
    "            # add 1 connections to the properties list\n",
    "            properties[i] += 1\n",
    "            properties[j] += 1\n",
    "            related_insert_ratio.append(insert_ratio_track[i][j])\n",
    "            related_remove_ratio.append(remove_ratio_track[i][j])\n",
    "            related_replace_ratio.append(replace_ratio_track[i][j])\n",
    "            # add edge\n",
    "            add_edge(Nodes[i], Nodes[j])\n",
    "\n",
    "# use the family function to find the properties of the nodes\n",
    "# also find the grand parents through this\n",
    "for i in range(genes):\n",
    "    a = family(Nodes[i], properties)\n",
    "    # find grandparents\n",
    "    if a == 'grand':\n",
    "        gpr = i\n",
    "\n",
    "# run through the tree from the root to find the relationship\n",
    "dfs(Nodes[gpr])\n",
    "\n",
    "# print the properties of the tree\n",
    "for i in Nodes:\n",
    "    output(i)"
   ]
  },
  {
   "cell_type": "code",
   "execution_count": null,
   "metadata": {},
   "outputs": [],
   "source": []
  },
  {
   "cell_type": "markdown",
   "metadata": {},
   "source": [
    "### The probability of insert, remove, and replace. \n",
    "In the code above, I kept track of the insert, remove, replace ratio of the direct relationship. Hence, we can simply compute the mean of those ratios to find the probability of each operations. "
   ]
  },
  {
   "cell_type": "code",
   "execution_count": 31,
   "metadata": {},
   "outputs": [
    {
     "name": "stdout",
     "output_type": "stream",
     "text": [
      "the probability of insert:  0.08339334179540366\n",
      "the probability of remove:  0.07076524978586834\n",
      "the probability of replace:  0.06215272617978803\n"
     ]
    }
   ],
   "source": [
    "print(\"the probability of insert: \", np.mean(related_insert_ratio))\n",
    "print(\"the probability of remove: \", np.mean(related_remove_ratio))\n",
    "print(\"the probability of replace: \", np.mean(related_replace_ratio))"
   ]
  },
  {
   "cell_type": "code",
   "execution_count": null,
   "metadata": {},
   "outputs": [],
   "source": []
  },
  {
   "cell_type": "markdown",
   "metadata": {},
   "source": [
    "### Complexity"
   ]
  },
  {
   "cell_type": "markdown",
   "metadata": {},
   "source": [
    "#### The lcs operation"
   ]
  },
  {
   "cell_type": "markdown",
   "metadata": {},
   "source": [
    "The lcs algorithm (lcs(str1, str2, m, n)) has 2 for loops, each runs m and n times, with m,n is the length of the genes. Given $M$ be the length of a gene, the lcs algorithm for 2 genes will run $M^2$ times.\n",
    "\n",
    "Hence, my lcs operation runs in $O(M^2)$. \n",
    "\n",
    "In order to trace what operation happens, I have the print_lcs() function to retrieve the length of the lcs. My print_lcs will run step by step using North (up), West (left) or Northwest (diagonal) in the $M^2$ table. If will cost at least $M$ steps (if we only go Northwest) and at most $2M$ steps (don't use Northwest operation, only use North or West). The operation inside is merely constant time. Regardless of the case, this will be linear time: $O(M)$.\n",
    "\n",
    "Hence, returning lcs will be $O(M^2) + O(M):$ which is $O(M^2)$\n",
    "\n",
    " We have $^NC_2$ pairs of genes. Also, in my code, as I want to compute the $N*N$ table, I ran 2 for loops, each runs N times to compute all possible pairs of gene. Hence, I ran the lcs() $N^2$ times (Also because $^NC_2$ and $N^2$ only differ by the factor of 2 (a constant) when $N$ becomes large (sill the same big O notation). \n",
    " \n",
    "We run the lcs function $N^2$ times: Computing the whole table costs $O(N^2 * M^2)$\n",
    "\n",
    "Also, we used 2 $(M+1)(M+1)$ tables to store results.\n",
    "\n",
    "This is indeed a much better result comparing to brute force approach, where we expand all possible subsets of each string and compare those subsets, which would result in exponential complexity: $O(2^{2M})$ for each lcs, and then $N^2$ time of those to get the table: $O(N^2 * 2^{2M})$:inefficient"
   ]
  },
  {
   "cell_type": "markdown",
   "metadata": {},
   "source": [
    "#### The edit distance operation (to find insert, remove, replace)"
   ]
  },
  {
   "cell_type": "markdown",
   "metadata": {},
   "source": [
    "The edit distance algorithm (edit_distance(str1, str2, m, n)) has 2 for loops, each runs m and n times, with m,n is the length of the genes. Given $M$ be the length of a gene, the lcs algorithm for 2 genes will run $M^2$ times.\n",
    "\n",
    "Hence, my edit distance operation runs in $O(M^2)$. \n",
    "\n",
    "In order to trace what operation happens, I have the print_editdistance() function to retrieve the number of changes and the number of each insert, remove, or replace. My print_editdistance will run step by step using insert (up), remove (left) or replace (diagonal) in the $M^2$ table. If will cost at least $M$ steps (if we only go diagonal) and at most $2M$ steps (don't use replace operation, only use delete or insert). The operation inside is merely constant time. Regardless of the case, this will be linear time: $O(M)$.\n",
    "\n",
    "Hence, returning the number of changes will be $O(M^2) + O(M):$ which is $O(M^2)$\n",
    "\n",
    " We have $^NC_2$ pairs of genes. Also, in my code, as I want to compute the $N*N$ table, I ran 2 for loops, each runs N times to compute all possible pairs of gene. Hence, I ran the edit_distance() $N^2$ times (Also because $^NC_2$ and $N^2$ only differ by the factor of 2 (a constant) when $N$ becomes large (still the same big O notation). \n",
    " \n",
    "We run the edit_distance function $N^2$ times: Computing the whole table costs $O(N^2 * M^2)$\n",
    "\n",
    "Also, we used 2 $(M+1)(M+1)$ tables to store results.\n",
    "\n",
    "This is indeed a much better result comparing to brute force approach, where we expand all possible sets of operations of each string and compare those subsets:, which would result in exponential complexity: $O(3^{2M})$. It is the exponential of 3 because there are 3 possible operations. Then $N^2$ time of those to get the table: $O(N^2 * 3^{2M})$: inefficient"
   ]
  },
  {
   "cell_type": "markdown",
   "metadata": {},
   "source": [
    "#### The tree building algorithm"
   ]
  },
  {
   "cell_type": "markdown",
   "metadata": {},
   "source": [
    "I merged all the elements of the upper half above the diagonal line of the table into 1 list: $^NC_2$ elements, which is approximately $N^2/2$ when $N$ is extremely large. Then I used Python sort function to sort the list, which will cost $n\\log n $ time with n is the number of elements. Hence, the complexity is $O(N^2/2.\\log(N^2/2)$, which is $O(N^2\\log N)$ time .\n",
    "\n",
    "Then I find location of the (N-1) minimum elements of the list by going through it every elements again. Going through the list will cost $O(N^2)$. Checking if the element is in the top (N-1) element would cost O(N). This cost $O(N^3)$ complexity. \n",
    "\n",
    "After having the top (N-1) element, which are the direct relationships. Then we start buidling the tree. \n",
    "\n",
    "The family() function and dfs() function of the tree will cost $O(N)$ time as we run through every nodes of the tree (which is $N$ Node). The operation inside will only cost constant time.\n",
    "\n",
    "Hence, the total time for building a tree is: $O(N^2 \\log N) + O(N^3) + O(N)$, which is $O(N^3)$\n",
    "\n",
    "This is an efficient way if we compare with where we have to compute all possible trees, which is $N!$: N factorial. However, my code can surely be modified for optimization. I can create a max heap with $N-1$ nodes. As I go through the list, if the element is smaller than the root of the max heap, I pop the root, replace by this element (insert) and max_heapify. This will definitely cost smaller complexity as max_heapify costs $O(logN)$ time, which will make the search for the minimum $N-1$ elements $O(N^2 \\log n)$ time. However, in the scope of this assignment, I will not perform such heap data structure."
   ]
  },
  {
   "cell_type": "code",
   "execution_count": null,
   "metadata": {},
   "outputs": [],
   "source": []
  },
  {
   "cell_type": "markdown",
   "metadata": {},
   "source": [
    "Three differences between this assignment and inferring relationships in real gene sequences."
   ]
  },
  {
   "cell_type": "markdown",
   "metadata": {},
   "source": [
    "In this assignment, I assume the genes are changed in the optimal way, which might not be the case for real life genetic inheritance.\n",
    "\n",
    "This is the core difference which can lead to my tree building and edit_distance fail to detect the family tree."
   ]
  },
  {
   "cell_type": "markdown",
   "metadata": {},
   "source": [
    "## HC Application"
   ]
  },
  {
   "cell_type": "markdown",
   "metadata": {},
   "source": [
    "##### #variables: I identify the ratio vriables, which helps to normalize the normal length of lcs. I also identified the dependence of the length of the lcs and the length of the original string, which leads to the ratio variable. Furthermore, I calculated the  probability of insert, remove, and replace by tracking each variable individually, identify all components of the possible operations. This has demonstrated a deep knowledge on #variables application\n",
    "\n",
    "##### #deduction: In order to identify the relations of the family tree, I used a sequence of logical, deductive arguments (e.g. 4 is \"parent\" because 4 has 3 direct relations; 0 is \"grand\" because it is the intersection of 2 sets of direct relation of 2 parents, etc.). These deductive arguments are effective, accurate in order to find the tree. This has proven a deep knowledge on #deduction."
   ]
  },
  {
   "cell_type": "code",
   "execution_count": null,
   "metadata": {},
   "outputs": [],
   "source": []
  }
 ],
 "metadata": {
  "kernelspec": {
   "display_name": "Python 3",
   "language": "python",
   "name": "python3"
  },
  "language_info": {
   "codemirror_mode": {
    "name": "ipython",
    "version": 3
   },
   "file_extension": ".py",
   "mimetype": "text/x-python",
   "name": "python",
   "nbconvert_exporter": "python",
   "pygments_lexer": "ipython3",
   "version": "3.6.5"
  }
 },
 "nbformat": 4,
 "nbformat_minor": 2
}
